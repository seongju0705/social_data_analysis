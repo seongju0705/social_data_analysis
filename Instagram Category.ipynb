{
 "cells": [
  {
   "cell_type": "markdown",
   "id": "54593c13",
   "metadata": {},
   "source": [
    "# Instagram Category\n",
    "- 카카오 API 활용하여 장소별 카테고리 분류"
   ]
  },
  {
   "cell_type": "code",
   "execution_count": 1,
   "id": "9e330580",
   "metadata": {},
   "outputs": [],
   "source": [
    "# 라이브러리 추가\n",
    "import requests\n",
    "from urllib.parse import urlparse\n",
    "import pandas as pd"
   ]
  },
  {
   "cell_type": "markdown",
   "id": "e15b52f6",
   "metadata": {},
   "source": [
    "### 카테고리 추출"
   ]
  },
  {
   "cell_type": "code",
   "execution_count": 2,
   "id": "1a0b349d",
   "metadata": {},
   "outputs": [
    {
     "data": {
      "text/html": [
       "<div>\n",
       "<style scoped>\n",
       "    .dataframe tbody tr th:only-of-type {\n",
       "        vertical-align: middle;\n",
       "    }\n",
       "\n",
       "    .dataframe tbody tr th {\n",
       "        vertical-align: top;\n",
       "    }\n",
       "\n",
       "    .dataframe thead th {\n",
       "        text-align: right;\n",
       "    }\n",
       "</style>\n",
       "<table border=\"1\" class=\"dataframe\">\n",
       "  <thead>\n",
       "    <tr style=\"text-align: right;\">\n",
       "      <th></th>\n",
       "      <th>keyword</th>\n",
       "      <th>place_name</th>\n",
       "      <th>address_name</th>\n",
       "      <th>category_group_name</th>\n",
       "      <th>category_name</th>\n",
       "    </tr>\n",
       "  </thead>\n",
       "  <tbody>\n",
       "    <tr>\n",
       "      <th>0</th>\n",
       "      <td>경복궁</td>\n",
       "      <td>경복궁</td>\n",
       "      <td>서울 종로구 세종로 1-91</td>\n",
       "      <td>관광명소</td>\n",
       "      <td>여행 &gt; 관광,명소 &gt; 문화유적 &gt; 고궁,궁</td>\n",
       "    </tr>\n",
       "  </tbody>\n",
       "</table>\n",
       "</div>"
      ],
      "text/plain": [
       "  keyword place_name     address_name category_group_name  \\\n",
       "0     경복궁        경복궁  서울 종로구 세종로 1-91                관광명소   \n",
       "\n",
       "              category_name  \n",
       "0  여행 > 관광,명소 > 문화유적 > 고궁,궁  "
      ]
     },
     "execution_count": 2,
     "metadata": {},
     "output_type": "execute_result"
    }
   ],
   "source": [
    "# 키워드 검색 함수 정의\n",
    "def keyword_to_category(keyword):\n",
    "    url = \"https://dapi.kakao.com/v2/local/search/keyword.json?&query=\" + keyword\n",
    "    result = requests.get(urlparse(url).geturl(),\n",
    "                          headers={\"Authorization\":\"KakaoAK ca3e9e2867f5f89b6efcd2c1c3624ab3\"}).json()['documents']\n",
    "    list = []\n",
    "    val = [keyword, result[0]['place_name'],\n",
    "          result[0]['address_name'],\n",
    "          result[0]['category_group_name'],\n",
    "          result[0]['category_name']]\n",
    "    list.append(val)\n",
    "    df = pd.DataFrame(list, columns = ['keyword', 'place_name', 'address_name', 'category_group_name', 'category_name'])\n",
    "    return df\n",
    "\n",
    "keyword_to_category(\"경복궁\")"
   ]
  },
  {
   "cell_type": "code",
   "execution_count": 10,
   "id": "4305e76c",
   "metadata": {},
   "outputs": [
    {
     "data": {
      "text/html": [
       "<div>\n",
       "<style scoped>\n",
       "    .dataframe tbody tr th:only-of-type {\n",
       "        vertical-align: middle;\n",
       "    }\n",
       "\n",
       "    .dataframe tbody tr th {\n",
       "        vertical-align: top;\n",
       "    }\n",
       "\n",
       "    .dataframe thead th {\n",
       "        text-align: right;\n",
       "    }\n",
       "</style>\n",
       "<table border=\"1\" class=\"dataframe\">\n",
       "  <thead>\n",
       "    <tr style=\"text-align: right;\">\n",
       "      <th></th>\n",
       "      <th>카카오위치명</th>\n",
       "    </tr>\n",
       "  </thead>\n",
       "  <tbody>\n",
       "    <tr>\n",
       "      <th>0</th>\n",
       "      <td>경복궁</td>\n",
       "    </tr>\n",
       "    <tr>\n",
       "      <th>1</th>\n",
       "      <td>북촌한옥마을</td>\n",
       "    </tr>\n",
       "    <tr>\n",
       "      <th>2</th>\n",
       "      <td>남이섬</td>\n",
       "    </tr>\n",
       "    <tr>\n",
       "      <th>3</th>\n",
       "      <td>감천문화마을</td>\n",
       "    </tr>\n",
       "    <tr>\n",
       "      <th>4</th>\n",
       "      <td>남산서울타워</td>\n",
       "    </tr>\n",
       "  </tbody>\n",
       "</table>\n",
       "</div>"
      ],
      "text/plain": [
       "   카카오위치명\n",
       "0     경복궁\n",
       "1  북촌한옥마을\n",
       "2     남이섬\n",
       "3  감천문화마을\n",
       "4  남산서울타워"
      ]
     },
     "execution_count": 10,
     "metadata": {},
     "output_type": "execute_result"
    }
   ],
   "source": [
    "# 데이터 불러오기\n",
    "df = pd.read_csv('./data/cat.csv',encoding='cp949')\n",
    "df.head()"
   ]
  },
  {
   "cell_type": "code",
   "execution_count": 11,
   "id": "4625b720",
   "metadata": {},
   "outputs": [
    {
     "data": {
      "text/html": [
       "<div>\n",
       "<style scoped>\n",
       "    .dataframe tbody tr th:only-of-type {\n",
       "        vertical-align: middle;\n",
       "    }\n",
       "\n",
       "    .dataframe tbody tr th {\n",
       "        vertical-align: top;\n",
       "    }\n",
       "\n",
       "    .dataframe thead th {\n",
       "        text-align: right;\n",
       "    }\n",
       "</style>\n",
       "<table border=\"1\" class=\"dataframe\">\n",
       "  <thead>\n",
       "    <tr style=\"text-align: right;\">\n",
       "      <th></th>\n",
       "      <th>keyword</th>\n",
       "      <th>place_name</th>\n",
       "      <th>address_name</th>\n",
       "      <th>category_group_name</th>\n",
       "      <th>category_name</th>\n",
       "      <th>lat</th>\n",
       "      <th>lon</th>\n",
       "    </tr>\n",
       "  </thead>\n",
       "  <tbody>\n",
       "    <tr>\n",
       "      <th>0</th>\n",
       "      <td>경복궁</td>\n",
       "      <td>경복궁</td>\n",
       "      <td>서울 종로구 세종로 1-91</td>\n",
       "      <td>관광명소</td>\n",
       "      <td>여행 &gt; 관광,명소 &gt; 문화유적 &gt; 고궁,궁</td>\n",
       "      <td>37.5776087830657</td>\n",
       "      <td>126.976896737645</td>\n",
       "    </tr>\n",
       "    <tr>\n",
       "      <th>0</th>\n",
       "      <td>북촌한옥마을</td>\n",
       "      <td>북촌한옥마을</td>\n",
       "      <td>서울 종로구 가회동 31-31</td>\n",
       "      <td></td>\n",
       "      <td>여행 &gt; 관광,명소</td>\n",
       "      <td>37.5829185302128</td>\n",
       "      <td>126.983384576672</td>\n",
       "    </tr>\n",
       "    <tr>\n",
       "      <th>0</th>\n",
       "      <td>남이섬</td>\n",
       "      <td>남이섬</td>\n",
       "      <td>강원 춘천시 남산면 방하리 197</td>\n",
       "      <td>관광명소</td>\n",
       "      <td>여행 &gt; 관광,명소 &gt; 섬 &gt; 섬(내륙)</td>\n",
       "      <td>37.79144074509299</td>\n",
       "      <td>127.52521014329739</td>\n",
       "    </tr>\n",
       "    <tr>\n",
       "      <th>0</th>\n",
       "      <td>감천문화마을</td>\n",
       "      <td>감천문화마을</td>\n",
       "      <td>부산 사하구 감천동 10-13</td>\n",
       "      <td></td>\n",
       "      <td>여행 &gt; 관광,명소</td>\n",
       "      <td>35.09630012826786</td>\n",
       "      <td>129.00942831915552</td>\n",
       "    </tr>\n",
       "    <tr>\n",
       "      <th>0</th>\n",
       "      <td>남산서울타워</td>\n",
       "      <td>남산서울타워</td>\n",
       "      <td>서울 용산구 용산동2가 산 1-3</td>\n",
       "      <td></td>\n",
       "      <td>여행 &gt; 관광,명소</td>\n",
       "      <td>37.551279740966</td>\n",
       "      <td>126.988217046052</td>\n",
       "    </tr>\n",
       "  </tbody>\n",
       "</table>\n",
       "</div>"
      ],
      "text/plain": [
       "  keyword place_name        address_name category_group_name  \\\n",
       "0     경복궁        경복궁     서울 종로구 세종로 1-91                관광명소   \n",
       "0  북촌한옥마을     북촌한옥마을    서울 종로구 가회동 31-31                       \n",
       "0     남이섬        남이섬  강원 춘천시 남산면 방하리 197                관광명소   \n",
       "0  감천문화마을     감천문화마을    부산 사하구 감천동 10-13                       \n",
       "0  남산서울타워     남산서울타워  서울 용산구 용산동2가 산 1-3                       \n",
       "\n",
       "              category_name                lat                 lon  \n",
       "0  여행 > 관광,명소 > 문화유적 > 고궁,궁   37.5776087830657    126.976896737645  \n",
       "0                여행 > 관광,명소   37.5829185302128    126.983384576672  \n",
       "0    여행 > 관광,명소 > 섬 > 섬(내륙)  37.79144074509299  127.52521014329739  \n",
       "0                여행 > 관광,명소  35.09630012826786  129.00942831915552  \n",
       "0                여행 > 관광,명소    37.551279740966    126.988217046052  "
      ]
     },
     "execution_count": 11,
     "metadata": {},
     "output_type": "execute_result"
    }
   ],
   "source": [
    "df1 = pd.DataFrame(columns = ['keyword', 'place_name', 'address_name', 'category_group_name', 'category_name', 'lat', 'lon'])\n",
    "\n",
    "# 키워드 검색 함수 반복 적용\n",
    "for keyword in df['카카오위치명']:\n",
    "    df1 = pd.concat([df1, keyword_to_latlon(keyword)])\n",
    "df1.head()"
   ]
  },
  {
   "cell_type": "code",
   "execution_count": 6,
   "id": "0acf83a4",
   "metadata": {},
   "outputs": [],
   "source": [
    "df1.to_csv('./data/test.csv',encoding='cp949')"
   ]
  }
 ],
 "metadata": {
  "kernelspec": {
   "display_name": "Python 3 (ipykernel)",
   "language": "python",
   "name": "python3"
  },
  "language_info": {
   "codemirror_mode": {
    "name": "ipython",
    "version": 3
   },
   "file_extension": ".py",
   "mimetype": "text/x-python",
   "name": "python",
   "nbconvert_exporter": "python",
   "pygments_lexer": "ipython3",
   "version": "3.9.12"
  }
 },
 "nbformat": 4,
 "nbformat_minor": 5
}
