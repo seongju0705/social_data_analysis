{
 "cells": [
  {
   "cell_type": "markdown",
   "id": "5c17f169",
   "metadata": {},
   "source": [
    "# Instagram Location\n",
    "- 위치정보 불러오기\n",
    "- 위치 데이터 시각화"
   ]
  },
  {
   "cell_type": "markdown",
   "id": "45efce9a",
   "metadata": {},
   "source": [
    "### 수집한 데이터 불러오기"
   ]
  },
  {
   "cell_type": "code",
   "execution_count": 1,
   "id": "e21f552a",
   "metadata": {},
   "outputs": [],
   "source": [
    "import pandas as pd"
   ]
  },
  {
   "cell_type": "code",
   "execution_count": 2,
   "id": "7c7ad380",
   "metadata": {},
   "outputs": [
    {
     "data": {
      "text/html": [
       "<div>\n",
       "<style scoped>\n",
       "    .dataframe tbody tr th:only-of-type {\n",
       "        vertical-align: middle;\n",
       "    }\n",
       "\n",
       "    .dataframe tbody tr th {\n",
       "        vertical-align: top;\n",
       "    }\n",
       "\n",
       "    .dataframe thead th {\n",
       "        text-align: right;\n",
       "    }\n",
       "</style>\n",
       "<table border=\"1\" class=\"dataframe\">\n",
       "  <thead>\n",
       "    <tr style=\"text-align: right;\">\n",
       "      <th></th>\n",
       "      <th>content</th>\n",
       "      <th>place_final</th>\n",
       "      <th>place</th>\n",
       "      <th>place_content</th>\n",
       "      <th>대상여부</th>\n",
       "      <th>date</th>\n",
       "      <th>like</th>\n",
       "      <th>tags</th>\n",
       "      <th>카카오위치명</th>\n",
       "      <th>경도</th>\n",
       "      <th>위도</th>\n",
       "    </tr>\n",
       "  </thead>\n",
       "  <tbody>\n",
       "    <tr>\n",
       "      <th>0</th>\n",
       "      <td>Bts spot The one who made this to sit in every...</td>\n",
       "      <td>NaN</td>\n",
       "      <td>The Min's - 더 민스</td>\n",
       "      <td>NaN</td>\n",
       "      <td>0</td>\n",
       "      <td>2020-12-31</td>\n",
       "      <td>60</td>\n",
       "      <td>[]</td>\n",
       "      <td>NaN</td>\n",
       "      <td>NaN</td>\n",
       "      <td>NaN</td>\n",
       "    </tr>\n",
       "    <tr>\n",
       "      <th>1</th>\n",
       "      <td>Happy new year     It s the new year in Korea ...</td>\n",
       "      <td>NaN</td>\n",
       "      <td>NaN</td>\n",
       "      <td>NaN</td>\n",
       "      <td>0</td>\n",
       "      <td>2020-12-31</td>\n",
       "      <td>840</td>\n",
       "      <td>[]</td>\n",
       "      <td>NaN</td>\n",
       "      <td>NaN</td>\n",
       "      <td>NaN</td>\n",
       "    </tr>\n",
       "    <tr>\n",
       "      <th>2</th>\n",
       "      <td>#사진산책 #happynewyear 새해에는 행복 가득하길  새해 복 많이 받으세요...</td>\n",
       "      <td>NaN</td>\n",
       "      <td>선유도공원</td>\n",
       "      <td>NaN</td>\n",
       "      <td>0</td>\n",
       "      <td>2020-12-31</td>\n",
       "      <td>124</td>\n",
       "      <td>['#사진산책', '#happynewyear.새해에는', '#사진에감성을더하다', ...</td>\n",
       "      <td>NaN</td>\n",
       "      <td>NaN</td>\n",
       "      <td>NaN</td>\n",
       "    </tr>\n",
       "    <tr>\n",
       "      <th>3</th>\n",
       "      <td>happy  new year    2021                      #...</td>\n",
       "      <td>NaN</td>\n",
       "      <td>NaN</td>\n",
       "      <td>NaN</td>\n",
       "      <td>0</td>\n",
       "      <td>2020-12-31</td>\n",
       "      <td>80</td>\n",
       "      <td>['#ソインク?ク', '#????????', '#徐仁?', '#seoinguk', ...</td>\n",
       "      <td>NaN</td>\n",
       "      <td>NaN</td>\n",
       "      <td>NaN</td>\n",
       "    </tr>\n",
       "    <tr>\n",
       "      <th>4</th>\n",
       "      <td>Happy or new to everyone I hope all your wishe...</td>\n",
       "      <td>경기 성남시 분당구</td>\n",
       "      <td>분당구</td>\n",
       "      <td>NaN</td>\n",
       "      <td>1</td>\n",
       "      <td>2020-12-31</td>\n",
       "      <td>41</td>\n",
       "      <td>['#corea', '#coreano', '#coreadelsur', '#a?onu...</td>\n",
       "      <td>분당정자동카페골목</td>\n",
       "      <td>127.106139</td>\n",
       "      <td>37.370151</td>\n",
       "    </tr>\n",
       "    <tr>\n",
       "      <th>...</th>\n",
       "      <td>...</td>\n",
       "      <td>...</td>\n",
       "      <td>...</td>\n",
       "      <td>...</td>\n",
       "      <td>...</td>\n",
       "      <td>...</td>\n",
       "      <td>...</td>\n",
       "      <td>...</td>\n",
       "      <td>...</td>\n",
       "      <td>...</td>\n",
       "      <td>...</td>\n",
       "    </tr>\n",
       "    <tr>\n",
       "      <th>3582</th>\n",
       "      <td>New year new country is here in South Korea th...</td>\n",
       "      <td>경복궁</td>\n",
       "      <td>서울</td>\n",
       "      <td>경복궁</td>\n",
       "      <td>2</td>\n",
       "      <td>2020-01-01</td>\n",
       "      <td>492</td>\n",
       "      <td>['#seoul', '#coreedusud', '#southkorea', '#gye...</td>\n",
       "      <td>경복궁</td>\n",
       "      <td>126.976897</td>\n",
       "      <td>37.577609</td>\n",
       "    </tr>\n",
       "    <tr>\n",
       "      <th>3583</th>\n",
       "      <td>Lights at Cheonggyecheon Stream          #Cheo...</td>\n",
       "      <td>청계천 서울 빛초롱 축제</td>\n",
       "      <td>청계천 서울 빛초롱 축제</td>\n",
       "      <td>NaN</td>\n",
       "      <td>2</td>\n",
       "      <td>2020-01-01</td>\n",
       "      <td>30</td>\n",
       "      <td>['#CheonggyecheonStream', '#Seoul', '#Korea', ...</td>\n",
       "      <td>서울빛초롱축제</td>\n",
       "      <td>126.977782</td>\n",
       "      <td>37.569190</td>\n",
       "    </tr>\n",
       "    <tr>\n",
       "      <th>3584</th>\n",
       "      <td>In the Seoul Sky     Views from the tallest bu...</td>\n",
       "      <td>서울스카이</td>\n",
       "      <td>서울스카이 Seoul Sky, Lotte World Tower, Korea</td>\n",
       "      <td>NaN</td>\n",
       "      <td>2</td>\n",
       "      <td>2020-01-01</td>\n",
       "      <td>56</td>\n",
       "      <td>['#TravelBlogger', '#Explore', '#Korea', '#Kor...</td>\n",
       "      <td>서울스카이</td>\n",
       "      <td>127.102544</td>\n",
       "      <td>37.512673</td>\n",
       "    </tr>\n",
       "    <tr>\n",
       "      <th>3585</th>\n",
       "      <td>Hello 2020         #seoul #seoulkora #seoultra...</td>\n",
       "      <td>서울</td>\n",
       "      <td>대한민국</td>\n",
       "      <td>서울</td>\n",
       "      <td>1</td>\n",
       "      <td>2020-01-01</td>\n",
       "      <td>24</td>\n",
       "      <td>['#seoul', '#seoulkora', '#seoultravel', '#kor...</td>\n",
       "      <td>북한산둘레길 1구간소나무숲길</td>\n",
       "      <td>127.009021</td>\n",
       "      <td>37.658889</td>\n",
       "    </tr>\n",
       "    <tr>\n",
       "      <th>3586</th>\n",
       "      <td>한국      #laterspamming#sorrynotsorry#seoullove...</td>\n",
       "      <td>경복궁</td>\n",
       "      <td>Gyeongbokgung</td>\n",
       "      <td>NaN</td>\n",
       "      <td>2</td>\n",
       "      <td>2020-01-01</td>\n",
       "      <td>20</td>\n",
       "      <td>['#laterspamming', '#sorrynotsorry', '#seoullo...</td>\n",
       "      <td>경복궁</td>\n",
       "      <td>126.976897</td>\n",
       "      <td>37.577609</td>\n",
       "    </tr>\n",
       "  </tbody>\n",
       "</table>\n",
       "<p>3587 rows × 11 columns</p>\n",
       "</div>"
      ],
      "text/plain": [
       "                                                content    place_final  \\\n",
       "0     Bts spot The one who made this to sit in every...            NaN   \n",
       "1     Happy new year     It s the new year in Korea ...            NaN   \n",
       "2     #사진산책 #happynewyear 새해에는 행복 가득하길  새해 복 많이 받으세요...            NaN   \n",
       "3     happy  new year    2021                      #...            NaN   \n",
       "4     Happy or new to everyone I hope all your wishe...     경기 성남시 분당구   \n",
       "...                                                 ...            ...   \n",
       "3582  New year new country is here in South Korea th...            경복궁   \n",
       "3583  Lights at Cheonggyecheon Stream          #Cheo...  청계천 서울 빛초롱 축제   \n",
       "3584  In the Seoul Sky     Views from the tallest bu...          서울스카이   \n",
       "3585  Hello 2020         #seoul #seoulkora #seoultra...             서울   \n",
       "3586  한국      #laterspamming#sorrynotsorry#seoullove...            경복궁   \n",
       "\n",
       "                                          place place_content  대상여부  \\\n",
       "0                              The Min's - 더 민스           NaN     0   \n",
       "1                                           NaN           NaN     0   \n",
       "2                                         선유도공원           NaN     0   \n",
       "3                                           NaN           NaN     0   \n",
       "4                                           분당구           NaN     1   \n",
       "...                                         ...           ...   ...   \n",
       "3582                                         서울           경복궁     2   \n",
       "3583                              청계천 서울 빛초롱 축제           NaN     2   \n",
       "3584  서울스카이 Seoul Sky, Lotte World Tower, Korea           NaN     2   \n",
       "3585                                       대한민국            서울     1   \n",
       "3586                              Gyeongbokgung           NaN     2   \n",
       "\n",
       "            date like                                               tags  \\\n",
       "0     2020-12-31   60                                                 []   \n",
       "1     2020-12-31  840                                                 []   \n",
       "2     2020-12-31  124  ['#사진산책', '#happynewyear.새해에는', '#사진에감성을더하다', ...   \n",
       "3     2020-12-31   80  ['#ソインク?ク', '#????????', '#徐仁?', '#seoinguk', ...   \n",
       "4     2020-12-31   41  ['#corea', '#coreano', '#coreadelsur', '#a?onu...   \n",
       "...          ...  ...                                                ...   \n",
       "3582  2020-01-01  492  ['#seoul', '#coreedusud', '#southkorea', '#gye...   \n",
       "3583  2020-01-01   30  ['#CheonggyecheonStream', '#Seoul', '#Korea', ...   \n",
       "3584  2020-01-01   56  ['#TravelBlogger', '#Explore', '#Korea', '#Kor...   \n",
       "3585  2020-01-01   24  ['#seoul', '#seoulkora', '#seoultravel', '#kor...   \n",
       "3586  2020-01-01   20  ['#laterspamming', '#sorrynotsorry', '#seoullo...   \n",
       "\n",
       "               카카오위치명          경도         위도  \n",
       "0                 NaN         NaN        NaN  \n",
       "1                 NaN         NaN        NaN  \n",
       "2                 NaN         NaN        NaN  \n",
       "3                 NaN         NaN        NaN  \n",
       "4           분당정자동카페골목  127.106139  37.370151  \n",
       "...               ...         ...        ...  \n",
       "3582              경복궁  126.976897  37.577609  \n",
       "3583          서울빛초롱축제  126.977782  37.569190  \n",
       "3584            서울스카이  127.102544  37.512673  \n",
       "3585  북한산둘레길 1구간소나무숲길  127.009021  37.658889  \n",
       "3586              경복궁  126.976897  37.577609  \n",
       "\n",
       "[3587 rows x 11 columns]"
      ]
     },
     "execution_count": 2,
     "metadata": {},
     "output_type": "execute_result"
    }
   ],
   "source": [
    "df = pd.read_csv('./data/koreagram_2020.csv', encoding='utf-8-sig')\n",
    "df"
   ]
  },
  {
   "cell_type": "markdown",
   "id": "bca3885b",
   "metadata": {},
   "source": [
    "### 위치정보 가져오기"
   ]
  },
  {
   "cell_type": "code",
   "execution_count": 3,
   "id": "75aede6a",
   "metadata": {},
   "outputs": [
    {
     "data": {
      "text/html": [
       "<div>\n",
       "<style scoped>\n",
       "    .dataframe tbody tr th:only-of-type {\n",
       "        vertical-align: middle;\n",
       "    }\n",
       "\n",
       "    .dataframe tbody tr th {\n",
       "        vertical-align: top;\n",
       "    }\n",
       "\n",
       "    .dataframe thead th {\n",
       "        text-align: right;\n",
       "    }\n",
       "</style>\n",
       "<table border=\"1\" class=\"dataframe\">\n",
       "  <thead>\n",
       "    <tr style=\"text-align: right;\">\n",
       "      <th></th>\n",
       "      <th>content</th>\n",
       "      <th>place_final</th>\n",
       "      <th>place</th>\n",
       "      <th>place_content</th>\n",
       "      <th>대상여부</th>\n",
       "      <th>date</th>\n",
       "      <th>like</th>\n",
       "      <th>tags</th>\n",
       "      <th>카카오위치명</th>\n",
       "      <th>경도</th>\n",
       "      <th>위도</th>\n",
       "    </tr>\n",
       "  </thead>\n",
       "  <tbody>\n",
       "    <tr>\n",
       "      <th>5</th>\n",
       "      <td>2021                                      20  ...</td>\n",
       "      <td>아침고요수목원</td>\n",
       "      <td>대한민국</td>\n",
       "      <td>아침고요수목원</td>\n",
       "      <td>2</td>\n",
       "      <td>2020-12-31</td>\n",
       "      <td>359</td>\n",
       "      <td>['#아침고요수목원']</td>\n",
       "      <td>아침고요수목원</td>\n",
       "      <td>127.351661</td>\n",
       "      <td>37.743004</td>\n",
       "    </tr>\n",
       "    <tr>\n",
       "      <th>7</th>\n",
       "      <td>2020 REFLECTIONS       Here we are on the eve ...</td>\n",
       "      <td>영종도</td>\n",
       "      <td>영종도</td>\n",
       "      <td>NaN</td>\n",
       "      <td>2</td>\n",
       "      <td>2020-12-31</td>\n",
       "      <td>83</td>\n",
       "      <td>[]</td>\n",
       "      <td>영종도</td>\n",
       "      <td>126.531476</td>\n",
       "      <td>37.502829</td>\n",
       "    </tr>\n",
       "    <tr>\n",
       "      <th>9</th>\n",
       "      <td>Waiting for 2021</td>\n",
       "      <td>보리암</td>\n",
       "      <td>보리암</td>\n",
       "      <td>NaN</td>\n",
       "      <td>2</td>\n",
       "      <td>2020-12-31</td>\n",
       "      <td>0</td>\n",
       "      <td>[]</td>\n",
       "      <td>보리암</td>\n",
       "      <td>127.982951</td>\n",
       "      <td>34.752005</td>\n",
       "    </tr>\n",
       "    <tr>\n",
       "      <th>11</th>\n",
       "      <td>The magical light displays at the Magic Island...</td>\n",
       "      <td>롯데월드</td>\n",
       "      <td>서울</td>\n",
       "      <td>롯데월드</td>\n",
       "      <td>2</td>\n",
       "      <td>2020-12-31</td>\n",
       "      <td>164</td>\n",
       "      <td>['#korea', '#koreatravel', '#winterscene', '#k...</td>\n",
       "      <td>롯데월드</td>\n",
       "      <td>127.098120</td>\n",
       "      <td>37.511131</td>\n",
       "    </tr>\n",
       "    <tr>\n",
       "      <th>14</th>\n",
       "      <td>by  archibeen Bucket list check  new year sun ...</td>\n",
       "      <td>낙산사</td>\n",
       "      <td>강원도 양양군 낙산사</td>\n",
       "      <td>NaN</td>\n",
       "      <td>2</td>\n",
       "      <td>2020-12-31</td>\n",
       "      <td>175</td>\n",
       "      <td>['#gangwondo', '#yangyanggun.??', '#korea_attr...</td>\n",
       "      <td>낙산사</td>\n",
       "      <td>128.627978</td>\n",
       "      <td>38.125433</td>\n",
       "    </tr>\n",
       "    <tr>\n",
       "      <th>...</th>\n",
       "      <td>...</td>\n",
       "      <td>...</td>\n",
       "      <td>...</td>\n",
       "      <td>...</td>\n",
       "      <td>...</td>\n",
       "      <td>...</td>\n",
       "      <td>...</td>\n",
       "      <td>...</td>\n",
       "      <td>...</td>\n",
       "      <td>...</td>\n",
       "      <td>...</td>\n",
       "    </tr>\n",
       "    <tr>\n",
       "      <th>3579</th>\n",
       "      <td>1st day of school  May your day be as         ...</td>\n",
       "      <td>생생딸기농장</td>\n",
       "      <td>생생딸기농장</td>\n",
       "      <td>NaN</td>\n",
       "      <td>2</td>\n",
       "      <td>2020-01-02</td>\n",
       "      <td>93</td>\n",
       "      <td>['#strawberryfarm', '#sgkids', '#sgigkids', '#...</td>\n",
       "      <td>생생딸기체험농장</td>\n",
       "      <td>127.651686</td>\n",
       "      <td>37.514266</td>\n",
       "    </tr>\n",
       "    <tr>\n",
       "      <th>3582</th>\n",
       "      <td>New year new country is here in South Korea th...</td>\n",
       "      <td>경복궁</td>\n",
       "      <td>서울</td>\n",
       "      <td>경복궁</td>\n",
       "      <td>2</td>\n",
       "      <td>2020-01-01</td>\n",
       "      <td>492</td>\n",
       "      <td>['#seoul', '#coreedusud', '#southkorea', '#gye...</td>\n",
       "      <td>경복궁</td>\n",
       "      <td>126.976897</td>\n",
       "      <td>37.577609</td>\n",
       "    </tr>\n",
       "    <tr>\n",
       "      <th>3583</th>\n",
       "      <td>Lights at Cheonggyecheon Stream          #Cheo...</td>\n",
       "      <td>청계천 서울 빛초롱 축제</td>\n",
       "      <td>청계천 서울 빛초롱 축제</td>\n",
       "      <td>NaN</td>\n",
       "      <td>2</td>\n",
       "      <td>2020-01-01</td>\n",
       "      <td>30</td>\n",
       "      <td>['#CheonggyecheonStream', '#Seoul', '#Korea', ...</td>\n",
       "      <td>서울빛초롱축제</td>\n",
       "      <td>126.977782</td>\n",
       "      <td>37.569190</td>\n",
       "    </tr>\n",
       "    <tr>\n",
       "      <th>3584</th>\n",
       "      <td>In the Seoul Sky     Views from the tallest bu...</td>\n",
       "      <td>서울스카이</td>\n",
       "      <td>서울스카이 Seoul Sky, Lotte World Tower, Korea</td>\n",
       "      <td>NaN</td>\n",
       "      <td>2</td>\n",
       "      <td>2020-01-01</td>\n",
       "      <td>56</td>\n",
       "      <td>['#TravelBlogger', '#Explore', '#Korea', '#Kor...</td>\n",
       "      <td>서울스카이</td>\n",
       "      <td>127.102544</td>\n",
       "      <td>37.512673</td>\n",
       "    </tr>\n",
       "    <tr>\n",
       "      <th>3586</th>\n",
       "      <td>한국      #laterspamming#sorrynotsorry#seoullove...</td>\n",
       "      <td>경복궁</td>\n",
       "      <td>Gyeongbokgung</td>\n",
       "      <td>NaN</td>\n",
       "      <td>2</td>\n",
       "      <td>2020-01-01</td>\n",
       "      <td>20</td>\n",
       "      <td>['#laterspamming', '#sorrynotsorry', '#seoullo...</td>\n",
       "      <td>경복궁</td>\n",
       "      <td>126.976897</td>\n",
       "      <td>37.577609</td>\n",
       "    </tr>\n",
       "  </tbody>\n",
       "</table>\n",
       "<p>1388 rows × 11 columns</p>\n",
       "</div>"
      ],
      "text/plain": [
       "                                                content    place_final  \\\n",
       "5     2021                                      20  ...        아침고요수목원   \n",
       "7     2020 REFLECTIONS       Here we are on the eve ...            영종도   \n",
       "9                                      Waiting for 2021            보리암   \n",
       "11    The magical light displays at the Magic Island...           롯데월드   \n",
       "14    by  archibeen Bucket list check  new year sun ...            낙산사   \n",
       "...                                                 ...            ...   \n",
       "3579  1st day of school  May your day be as         ...         생생딸기농장   \n",
       "3582  New year new country is here in South Korea th...            경복궁   \n",
       "3583  Lights at Cheonggyecheon Stream          #Cheo...  청계천 서울 빛초롱 축제   \n",
       "3584  In the Seoul Sky     Views from the tallest bu...          서울스카이   \n",
       "3586  한국      #laterspamming#sorrynotsorry#seoullove...            경복궁   \n",
       "\n",
       "                                          place place_content  대상여부  \\\n",
       "5                                          대한민국       아침고요수목원     2   \n",
       "7                                           영종도           NaN     2   \n",
       "9                                           보리암           NaN     2   \n",
       "11                                           서울          롯데월드     2   \n",
       "14                                  강원도 양양군 낙산사           NaN     2   \n",
       "...                                         ...           ...   ...   \n",
       "3579                                     생생딸기농장           NaN     2   \n",
       "3582                                         서울           경복궁     2   \n",
       "3583                              청계천 서울 빛초롱 축제           NaN     2   \n",
       "3584  서울스카이 Seoul Sky, Lotte World Tower, Korea           NaN     2   \n",
       "3586                              Gyeongbokgung           NaN     2   \n",
       "\n",
       "            date like                                               tags  \\\n",
       "5     2020-12-31  359                                       ['#아침고요수목원']   \n",
       "7     2020-12-31   83                                                 []   \n",
       "9     2020-12-31    0                                                 []   \n",
       "11    2020-12-31  164  ['#korea', '#koreatravel', '#winterscene', '#k...   \n",
       "14    2020-12-31  175  ['#gangwondo', '#yangyanggun.??', '#korea_attr...   \n",
       "...          ...  ...                                                ...   \n",
       "3579  2020-01-02   93  ['#strawberryfarm', '#sgkids', '#sgigkids', '#...   \n",
       "3582  2020-01-01  492  ['#seoul', '#coreedusud', '#southkorea', '#gye...   \n",
       "3583  2020-01-01   30  ['#CheonggyecheonStream', '#Seoul', '#Korea', ...   \n",
       "3584  2020-01-01   56  ['#TravelBlogger', '#Explore', '#Korea', '#Kor...   \n",
       "3586  2020-01-01   20  ['#laterspamming', '#sorrynotsorry', '#seoullo...   \n",
       "\n",
       "        카카오위치명          경도         위도  \n",
       "5      아침고요수목원  127.351661  37.743004  \n",
       "7          영종도  126.531476  37.502829  \n",
       "9          보리암  127.982951  34.752005  \n",
       "11        롯데월드  127.098120  37.511131  \n",
       "14         낙산사  128.627978  38.125433  \n",
       "...        ...         ...        ...  \n",
       "3579  생생딸기체험농장  127.651686  37.514266  \n",
       "3582       경복궁  126.976897  37.577609  \n",
       "3583   서울빛초롱축제  126.977782  37.569190  \n",
       "3584     서울스카이  127.102544  37.512673  \n",
       "3586       경복궁  126.976897  37.577609  \n",
       "\n",
       "[1388 rows x 11 columns]"
      ]
     },
     "execution_count": 3,
     "metadata": {},
     "output_type": "execute_result"
    }
   ],
   "source": [
    "result_df = df[df['대상여부'] == 2]\n",
    "result_df"
   ]
  },
  {
   "cell_type": "code",
   "execution_count": 4,
   "id": "23ea72d4",
   "metadata": {},
   "outputs": [
    {
     "name": "stdout",
     "output_type": "stream",
     "text": [
      "경복궁                 64\n",
      "남이섬                 33\n",
      "감천문화마을              23\n",
      "남산서울타워              23\n",
      "북촌한옥마을              20\n",
      "                    ..\n",
      "미즈노씨네 트리하우스          1\n",
      "부천자연생태공원 농경유물전시관     1\n",
      "장림포구                 1\n",
      "국립경주박물관              1\n",
      "생생딸기체험농장             1\n",
      "Name: 카카오위치명, Length: 604, dtype: int64\n"
     ]
    }
   ],
   "source": [
    "location_counts = result_df['카카오위치명'].value_counts()\n",
    "print(location_counts)"
   ]
  },
  {
   "cell_type": "code",
   "execution_count": 5,
   "id": "c2fec127",
   "metadata": {},
   "outputs": [],
   "source": [
    "location_counts_df = pd.DataFrame(location_counts)\n",
    "location_counts_df.to_csv('./data/koreagram_datalocation_counts.csv', encoding='utf-8-sig')"
   ]
  },
  {
   "cell_type": "code",
   "execution_count": 6,
   "id": "ee9c9485",
   "metadata": {
    "scrolled": true
   },
   "outputs": [
    {
     "name": "stdout",
     "output_type": "stream",
     "text": [
      "['경복궁', '남이섬', '감천문화마을', '남산서울타워', '북촌한옥마을', '서울숲', '불국사', '조계사', '서울스카이', '익선동한옥거리', '올림픽공원', '별마당도서관', '명동거리', '여의도공원', '이화여자대학교', '한강', '덕수궁', '제주도', '창덕궁', '롯데월드타워', '이태원거리', '해동용궁사', '설악산국립공원', '동대문디자인플라자', '용마랜드', '이화동 벽화마을', '롯데월드', '북한산국립공원', '청계천', '포레스트리솜', '내장산국립공원', '광양매화정보화마을', '청산수목원', '하늘공원', '서울대공원', '봉은사', '서울식물원', '세빛섬', '젊은달와이파크', '하이클래스153', '비봉산', '인사동거리', '국립중앙박물관', '해운대해수욕장', '전주한옥마을', '환선굴', '스타필드 코엑스몰', '성산일출봉', '수원화성', '뚝섬한강공원', '아침고요수목원', '구인사', '일산호수공원', '서울역', '진안홍삼스파', '그림카페', '파라다이스시티', '동궁과월지', '티테라피 행랑점', '한국민속촌', '흥인지문', '두물머리', '제부도', '오동도', '독일마을', '동대문역사문화공원역 2호선', '속초해수욕장', 'DDP패션몰', '을왕리해수욕장', '광화문광장', '안양예술공원', '계룡산국립공원', '남산공원', '채계산', '여수예술랜드', '덕유산국립공원', '보리암', '창경궁', '오린지', '한라산국립공원', '도산맘마', '서울리즘', '그레뱅뮤지엄', '북서울꿈의숲', '광화문', 'IFC몰', '안성팜랜드', '메세나폴리스몰', '광안리해수욕장', '천지연폭포', '정동진해변', '해금강', '시흥갯골생태공원', '카카오프렌즈 홍대플래그십스토어', '중문색달해수욕장', '쁘띠프랑스', '평강랜드', '서울대학교 연건캠퍼스', '천주교서울대교구 주교좌 명동대성당', '아이파크몰', '카페 하이웨이스트 익선점', '여의도한강공원', '마이산', '죽녹원', '북한산', '구례산수유마을', '용산가족공원', '카페 레이어드 연남점', '송월동동화마을', '서울로7017', '그랜드하얏트서울', '채그로', '소쇄원', '서촌한옥마을', '어반그린', '별빛정원 우주', '휘닉스평창 스노우파크', '구룡포일본인가옥거리', '여수해상케이블카', '서울월드컵경기장', '카페캠프통', '자갈치시장', '나인트리프리미어호텔 인사동', '양재시민의숲', '카멜리아힐', '커피앤시가렛', '여수해양레일바이크', '첨성대', '안동하회마을', '김해국제공항', '79파운야드 망원본점', '동래읍성도서관', '라이언카페', '추암촛대바위', '몽마르뜨공원', '왜목마을해수욕장', '범어사', '동해현진관광호텔', '경주향교', '빈터커피 신사점', '모멘트커피', '강화도', '옥인오락실', '디폴트밸류', '숭례문', '나주영상테마파크', '한류스타거리', '카페스콘', '호미곶', '서울특별시교육청 정독도서관', '젠틀몬스터 신사가로수길 플래그십 스토어', '한강시민공원 이촌지구주차장', '세미원', '송도센트럴파크', '남대문시장', '내사랑', '월출산국립공원', '갑천', '신동카페거리', '길상사', '금오산', '월정리해수욕장', '서울빛초롱축제', '카페오색칠', '갤러리아백화점 광교점', '화성행궁', '석굴암 삼층석탑', '딩가케이크', '코엑스', '지리산국립공원', '영금정', '이촌한강공원', '국립무형유산원', '와이드커피스탠드', '고소동벽화마을', '쌈지길', '오리올', '올레길 4코스(표선-남원 올레)', '동백섬', '영일대해수욕장', '대반동201', '국립민속박물관', '감악산출렁다리', '동탄호수공원', '안돌오름', '궁평항', '해인사', '서대문형무소역사관', '청송얼음골', '인천국제공항', '대릉원', '그랜드하얏트인천', '남한산성', 'BTS 버스정류장', '밀토스트집', '석촌호수 서호', '국립한글박물관', '에버랜드', '무등산양떼목장', '낙산사', '월정교', '더베이101', '예술의전당', '백운대', '구룡포항', '동묘시장', '봉선사', '코엑스 아쿠아리움', '조양방직', '리움미술관', '포항송도해수욕장', '포롱포롱잡화점', '앤트러사이트 한남점', '유달산', '훌림목', '강남역 2호선', '온더보더 광화문D타워점', '세종마을 음식문화거리', '형산강', '의정부미술도서관', '환구단', '수국사', '담빛예술창고', '나이스웨더 마켓', '영취산', '동대문 문구완구시장', '한밭수목원', 'NC백화점 신구로점', '안양천', '어나더룸', '일산호수공원가로수길', '소카모노', '툭툭누들타이', '흰여울문화마을', '살라댕방콕', '서울책보고', '나홀로나무', '올어바웃어스', '화담숲', '칙피스 가로수길점', '죽성드림세트장', '누에다리', '남산야외식물원', '월미도', '운천호수공원', '소노벨비발디파크', '홍익대학교 서울캠퍼스', '이태원 부군당역사공원', '잠실종합운동장 잠실야구장', '남원큰엉해변', '바다와풍경', '언더스탠드에비뉴', '살곶이다리', '크루미상', '영녕릉 세종대왕유적지구 세종대왕릉', '도두항', '호텔세느장', '부산시립박물관', '정방폭포', '산방굴사', '롯데백화점 잠실점', '포석정', '스크렘', '카페105', '퍼셉션 (Perception)', '동점문', '와우정사', '홍대입구역 2호선', '북병산', '황매산', '진미식당', '큰악어봉', '낙산해변', '온미동 연남점', '플라이스테이션코리아', '여수당', '8810리스트레토바', '푸드더즈매터', '정식당', '남산골한옥마을 서울남산국악당', '증심사', '계단위푸른집', '키친205', '칠보산', '삼불사', '1인1잔', '포비 합정점', '북악팔각정', '아차산', '스타무인텔', '아트몬스터 강남역점', '천왕재', '바래봉', '원대리자작나무숲', '나그네하우스', '한탄강', '뚝섬 자벌레 서울생각마루', '반얀트리클럽&스파서울', '환기미술관', '커먼그라운드', '도담삼봉', '송도해상케이블카 송도베이스테이션', '신촌역 2호선', '스타일난다 핑크풀카페 홍대점', '경복궁 근정전', '바람의언덕', '컬러풀뮤지엄', '안녕인사동', '잠원한강공원', '마시안해변', '월정사', '건국대학교 서울캠퍼스', '남산골한옥마을', 'BHC치킨 대학로본점', '고려대학교 서울캠퍼스', '남산골공원 서울천년타임캡슐광장', '종로타워', '불곡산', '서울대학교 관악캠퍼스', '자유의다리', '헬로팬 서면본점', '진해군항제', '경희궁', '이랜드크루즈', '전쟁기념관', '수림문화재단', '국제시장', '마키노차야 판교점', '대림창고', '김포국제공항 국내선', '제주국제공항', '천마총', '대관령양떼목장', '소인국테마파크', '국립서울현충원', '잠실한강공원', '킹스파', '광장시장', '무지개다리', '카페보라', '속초관광수산시장', '헤이브릭스', '경희대학교 서울캠퍼스', '빌라쥬11팩토리', '셰프스위트', '자갈치수산시장', '영화의전당', '반포대교', '아오이토리', '제주동백수목원', '오대산국립공원', '수원화성 화홍문', '분당중앙공원', '카페이음', '설화수 플래그십스토어', '예술공간 봄', '망원한강공원', '정월대보름들불축제', '서래섬', '홉가든한남', '임피리얼팰리스 서울(휴업중)', '보광사', '올림픽대교', '알프스마을', '녹사평역 6호선', '롯데영플라자 본점', '강천산군립공원', '신세계백화점 경기점', '용인대장금테마파크', '논실커피 로스터스', '팝콘D스퀘어', '매봉산공원', '씨스루 홍대연남점', '정동진역', '청계산', '수원화성 화서문', '시몬스 테라스점', '소수서원', '경기아트센터', '문화역서울284', '산들해 반포점', '커피빈 동교동삼거리점', '동막해수욕장', '이호테우해수욕장', '허브나라농원', '어니언 안국점', '압구정로데오거리', '서울어린이대공원 동물원', '신세계프리미엄아울렛 여주', '거제도', '하조대', '오브젝트', '일산해수욕장', '성북천', '도산근린공원', '수원화성 팔달문', '신세계백화점 본점', '모래시계공원', '경주양동마을', '이호테우등대', '월출산 구름다리', '오죽헌', '감칠', '삼광사', '용두산공원', '문광저수지', '홍룡폭포', '케이스포돔 올림픽체조경기장', '한국도로공사 전주수목원', '보은 삼년산성', '순천드라마촬영장', '김녕미로공원', '드레피인풀빌라펜션', '다이아몬드타워', '국제갤러리 본관', '행궁동벽화마을', '산토리니', '송파나루공원', '순천만습지', '간월재', '동호대교', '드래곤힐스파 (휴업중)', '에델바이스 스위스 테마파크', '왜목마을', '더로열푸드앤드링크', '미조항', 'MBC문화방송 본사', '카페새오개길39', '한반도지형전망대', '부산시민공원', '아마츄어작업실', '순천만국가정원', '효원공원 월화원', '묵호등대전망대', '은평한옥마을', '아세안문화원', '주한스위스대사관', '율포해수욕장', '반포대교 달빛무지개분수', '무신사테라스', '논골담길', '대오서점', '광명동굴', '월악산국립공원', '소록도', '호랭이카페', '별마당키즈 스타필드안성', '해운대아이파크아파트', '몬드리안 서울 이태원', '만휴정', '서울웨이브아트센터', '대한불교조계종 신륵사', '협재해수욕장', '인왕산', '아홉산숲', '상족암군립공원', '용산역광장', '대구이월드', '스타일난다 홍대플래그쉽스토어', '사천해변', '카페무라노', '장산전망대', '삼청동거리', '힐리언스선마을', '경포호', '고스락', '주문진해변', '노을공원', '내장산', '롯데호텔서울 라세느', '임진각 평화누리', '동북각루', '목시서울인사동', '커피한잔', '우음도', '샤로수길', '국립아시아문화전당', '이가리 닻전망대', '서울스퀘어', '가산수피아', '엑스포공원', '신리성지', '원인어밀리언', '낙산공원', '장덕사', '석모도미네랄온천', '백제문화단지 2주차장', '인구해변', '구조라성', '영일대전망대', '파크하얏트 서울', '추암해변', '궁평리해수욕장', '정자역 수인분당선', '위봉산성', '정림사지박물관 정림사지5층석탑', '나모', '청구빌딩', '만장굴', '영월패러글라이딩', '인천국제공항 하늘정원', 'C156', '낙성대공원', '리버빌', '북악산', '망리단길', '대숲골농원', '성북동빵공장', '이천도예마을', '베란다', '금장대', '어나더쉐어', '신라밀레니엄파크 라궁호텔', '더파이니스트', '동강래프팅', '공산성', '메타세쿼이아 가로수길', '영동와인터널', '홍대패션거리', '주문진수산시장', '디지털미디어시티역 6호선', '에버랜드 사파리월드', 'VR스퀘어', '이길이구 갤러리', '리얼야구존 홍대점', '종묘', '청옥산 육백마지기농장', '거창의동마을 은행나무길', '이중섭미술관', '스카이가든', '지평쌀막걸리', 'KB청춘마루', '노들섬', '민스크', '동작역 4호선', '문화비축기지', '대부도', '더포레베이커리', '캐리비안베이', '장흥계곡', 'K26', '하이바다', '성균관대학교 명륜당', '설악산 울산바위', '교보문고 강남점', '푸하하크림빵', '북파크라운지', '비포블루밍', '라테라스리조트앤스파', '농부의카페 사랑새봄', '미인폭포', '아쿠아플라넷 여수', '지중해마을', '죽도해변', '메그네이트', '올레길 5코스(남원-쇠소깍 올레)', '원피스만화카페', '유진상가', '63스퀘어', '우도', '갤러리 한옥', '168계단모노레일', '무등산국립공원', '제주판타스틱버거', '강남스타일동상', '낙안읍성민속마을', '묘미', '아원고택', '삼각백빈건널목', '다랭이마을', '영종도', '북악산 한양도성', '도산서원', '성수연방', '거금도', '다이나믹메이즈 서울인사동점', '물향기수목원', '빨라쪼델프레도 노량진점', '운곡서원', '석종사', '퍼플교', '월정리에서브런치', '영도대교', '러스트베이커리', '고창읍성', '도라산평화공원', '올드문래', '인천차이나타운', '대한다원 본사', '삼성궁', '법주사', '경상감영공원', '연세대학교 미래캠퍼스', '덕포해수욕장', '거창항노화힐링랜드', '옥정호', '신두리해안사구', '도두동무지개해안도로', '대둔산', '미즈노씨네 트리하우스', '부천자연생태공원 농경유물전시관', '장림포구', '국립경주박물관', '생생딸기체험농장']\n"
     ]
    }
   ],
   "source": [
    "locations = list(location_counts.index)\n",
    "print(locations)"
   ]
  },
  {
   "cell_type": "markdown",
   "id": "382d5251",
   "metadata": {},
   "source": [
    "### 카카오 API"
   ]
  },
  {
   "cell_type": "code",
   "execution_count": 10,
   "id": "7b7dd7c1",
   "metadata": {
    "scrolled": true
   },
   "outputs": [],
   "source": [
    "import requests \n",
    "\n",
    "searching = '경복궁'\n",
    "url = 'https://dapi.kakao.com/v2/local/search/keyword.json?query={}'.format(searching)\n",
    "\n",
    "headers = {\"Authorization\": \"KakaoAK 7b79badcab2f1b9bd186f82a4ade78e2\"}\n",
    "\n",
    "places = requests.get(url, headers = headers).json()['documents']"
   ]
  },
  {
   "cell_type": "code",
   "execution_count": 11,
   "id": "48fbbd29",
   "metadata": {},
   "outputs": [
    {
     "name": "stdout",
     "output_type": "stream",
     "text": [
      "('경복궁', '126.976896737645', '37.5776087830657', '경복궁')\n"
     ]
    }
   ],
   "source": [
    "def find_places(searching):\n",
    "    url = 'https://dapi.kakao.com/v2/local/search/keyword.json?query={}'.format(searching)\n",
    "    headers = {\"Authorization\": \"KakaoAK 7b79badcab2f1b9bd186f82a4ade78e2\"}\n",
    "    \n",
    "    places = requests.get(url, headers = headers).json()['documents']\n",
    "    place = places[0]\n",
    "    name = place['place_name']\n",
    "\n",
    "    x = place['x']\n",
    "    y = place['y']\n",
    "    data = name, x, y, searching\n",
    "\n",
    "    return data\n",
    "\n",
    "print(find_places('경복궁'))"
   ]
  },
  {
   "cell_type": "code",
   "execution_count": 9,
   "id": "b55951d2",
   "metadata": {
    "scrolled": true
   },
   "outputs": [
    {
     "name": "stdout",
     "output_type": "stream",
     "text": [
      "('창경궁', '126.995199911733', '37.5794165384496', '창경궁')\n"
     ]
    }
   ],
   "source": [
    "print(find_places('창경궁'))"
   ]
  },
  {
   "cell_type": "code",
   "execution_count": 17,
   "id": "e0ac145b",
   "metadata": {
    "scrolled": false
   },
   "outputs": [
    {
     "name": "stderr",
     "output_type": "stream",
     "text": [
      "100%|████████████████████████████████████████████████████████████████████████████████| 800/800 [07:35<00:00,  1.75it/s]\n"
     ]
    }
   ],
   "source": [
    "import time\n",
    "from tqdm import tqdm\n",
    "\n",
    "locations_inform = []\n",
    "for location in tqdm(locations):\n",
    "    try:\n",
    "        data = find_places(location)\n",
    "        locations_inform.append(data)\n",
    "        time.sleep(0.5)\n",
    "    except:\n",
    "        pass\n",
    "\n",
    "locations_inform_df = pd.DataFrame(locations_inform)\n",
    "locations_inform_df.columns = ['카카오위치명', '경도', '위도', '인스타위치명']\n",
    "locations_inform_df.to_csv('./data/koreagram_location_final.csv', index=False, encoding='utf-8-sig')"
   ]
  },
  {
   "cell_type": "markdown",
   "id": "fb1fb0ef",
   "metadata": {},
   "source": [
    "### 위치 데이터 시각화 (Plotly)"
   ]
  },
  {
   "cell_type": "code",
   "execution_count": 13,
   "id": "deb18d1a",
   "metadata": {},
   "outputs": [
    {
     "data": {
      "text/html": [
       "        <script type=\"text/javascript\">\n",
       "        window.PlotlyConfig = {MathJaxConfig: 'local'};\n",
       "        if (window.MathJax) {MathJax.Hub.Config({SVG: {font: \"STIX-Web\"}});}\n",
       "        if (typeof require !== 'undefined') {\n",
       "        require.undef(\"plotly\");\n",
       "        requirejs.config({\n",
       "            paths: {\n",
       "                'plotly': ['https://cdn.plot.ly/plotly-2.9.0.min']\n",
       "            }\n",
       "        });\n",
       "        require(['plotly'], function(Plotly) {\n",
       "            window._Plotly = Plotly;\n",
       "        });\n",
       "        }\n",
       "        </script>\n",
       "        "
      ]
     },
     "metadata": {},
     "output_type": "display_data"
    }
   ],
   "source": [
    "# Visual Python: Logic > code\n",
    "import plotly.express as px\n",
    "import plotly\n",
    "plotly.offline.init_notebook_mode(connected=True)"
   ]
  },
  {
   "cell_type": "code",
   "execution_count": 14,
   "id": "b10ef7e4",
   "metadata": {},
   "outputs": [
    {
     "data": {
      "text/html": [
       "<div>\n",
       "<style scoped>\n",
       "    .dataframe tbody tr th:only-of-type {\n",
       "        vertical-align: middle;\n",
       "    }\n",
       "\n",
       "    .dataframe tbody tr th {\n",
       "        vertical-align: top;\n",
       "    }\n",
       "\n",
       "    .dataframe thead th {\n",
       "        text-align: right;\n",
       "    }\n",
       "</style>\n",
       "<table border=\"1\" class=\"dataframe\">\n",
       "  <thead>\n",
       "    <tr style=\"text-align: right;\">\n",
       "      <th></th>\n",
       "      <th>네이버위치명</th>\n",
       "      <th>경도</th>\n",
       "      <th>위도</th>\n",
       "      <th>인스타위치명</th>\n",
       "    </tr>\n",
       "  </thead>\n",
       "  <tbody>\n",
       "    <tr>\n",
       "      <th>0</th>\n",
       "      <td>ABBA라이브</td>\n",
       "      <td>127.127815880474</td>\n",
       "      <td>37.5011839406236</td>\n",
       "      <td>ABBA</td>\n",
       "    </tr>\n",
       "    <tr>\n",
       "      <th>1</th>\n",
       "      <td>북한산둘레길 1구간소나무숲길</td>\n",
       "      <td>127.00902108350806</td>\n",
       "      <td>37.65888882945633</td>\n",
       "      <td>서울</td>\n",
       "    </tr>\n",
       "    <tr>\n",
       "      <th>2</th>\n",
       "      <td>대한민국</td>\n",
       "      <td>127.062417480704</td>\n",
       "      <td>37.5067075025853</td>\n",
       "      <td>대한민국</td>\n",
       "    </tr>\n",
       "    <tr>\n",
       "      <th>3</th>\n",
       "      <td>경복궁</td>\n",
       "      <td>126.976896737645</td>\n",
       "      <td>37.5776087830657</td>\n",
       "      <td>Gyeongbokgung</td>\n",
       "    </tr>\n",
       "    <tr>\n",
       "      <th>4</th>\n",
       "      <td>PPE</td>\n",
       "      <td>127.059936935972</td>\n",
       "      <td>37.5162738482712</td>\n",
       "      <td>South Korea</td>\n",
       "    </tr>\n",
       "    <tr>\n",
       "      <th>...</th>\n",
       "      <td>...</td>\n",
       "      <td>...</td>\n",
       "      <td>...</td>\n",
       "      <td>...</td>\n",
       "    </tr>\n",
       "    <tr>\n",
       "      <th>382</th>\n",
       "      <td>비발디파크 오션월드</td>\n",
       "      <td>127.68691203933</td>\n",
       "      <td>37.6499534973208</td>\n",
       "      <td>강원도</td>\n",
       "    </tr>\n",
       "    <tr>\n",
       "      <th>383</th>\n",
       "      <td>전주한옥마을</td>\n",
       "      <td>127.152557091072</td>\n",
       "      <td>35.8148243087693</td>\n",
       "      <td>전주 한옥마을</td>\n",
       "    </tr>\n",
       "    <tr>\n",
       "      <th>384</th>\n",
       "      <td>평가옥 분당점</td>\n",
       "      <td>127.110089261499</td>\n",
       "      <td>37.3695742289207</td>\n",
       "      <td>평가옥 분당</td>\n",
       "    </tr>\n",
       "    <tr>\n",
       "      <th>385</th>\n",
       "      <td>광장시장 전골목</td>\n",
       "      <td>127.000633898859</td>\n",
       "      <td>37.5705616588662</td>\n",
       "      <td>광장시장먹자골목</td>\n",
       "    </tr>\n",
       "    <tr>\n",
       "      <th>386</th>\n",
       "      <td>서울한양도성 낙산구간2코스</td>\n",
       "      <td>127.00863578989066</td>\n",
       "      <td>37.58079664277135</td>\n",
       "      <td>낙산공원 서울성곽길</td>\n",
       "    </tr>\n",
       "  </tbody>\n",
       "</table>\n",
       "<p>387 rows × 4 columns</p>\n",
       "</div>"
      ],
      "text/plain": [
       "              네이버위치명                  경도                 위도         인스타위치명\n",
       "0            ABBA라이브    127.127815880474   37.5011839406236           ABBA\n",
       "1    북한산둘레길 1구간소나무숲길  127.00902108350806  37.65888882945633             서울\n",
       "2               대한민국    127.062417480704   37.5067075025853           대한민국\n",
       "3                경복궁    126.976896737645   37.5776087830657  Gyeongbokgung\n",
       "4                PPE    127.059936935972   37.5162738482712    South Korea\n",
       "..               ...                 ...                ...            ...\n",
       "382       비발디파크 오션월드     127.68691203933   37.6499534973208            강원도\n",
       "383           전주한옥마을    127.152557091072   35.8148243087693        전주 한옥마을\n",
       "384          평가옥 분당점    127.110089261499   37.3695742289207         평가옥 분당\n",
       "385         광장시장 전골목    127.000633898859   37.5705616588662       광장시장먹자골목\n",
       "386   서울한양도성 낙산구간2코스  127.00863578989066  37.58079664277135     낙산공원 서울성곽길\n",
       "\n",
       "[387 rows x 4 columns]"
      ]
     },
     "execution_count": 14,
     "metadata": {},
     "output_type": "execute_result"
    }
   ],
   "source": [
    "locations_inform_df"
   ]
  },
  {
   "cell_type": "code",
   "execution_count": 15,
   "id": "a3441877",
   "metadata": {},
   "outputs": [],
   "source": [
    "locations_inform_df = locations_inform_df[['경도','위도']].astype('float64')"
   ]
  },
  {
   "cell_type": "code",
   "execution_count": 16,
   "id": "f4c8ce35",
   "metadata": {},
   "outputs": [
    {
     "data": {
      "application/vnd.plotly.v1+json": {
       "config": {
        "plotlyServerURL": "https://plot.ly"
       },
       "data": [
        {
         "hovertemplate": "위도=%{lat}<br>경도=%{lon}<extra></extra>",
         "lat": [
          37.5011839406236,
          37.65888882945633,
          37.5067075025853,
          37.5776087830657,
          37.5162738482712,
          35.1585232170784,
          37.5776087830657,
          37.5829185302128,
          35.836252574629924,
          36.801517403322485,
          37.56318453011765,
          35.8347762643542,
          35.859463234034216,
          37.5733610774662,
          37.523644471292,
          36.5389828267328,
          37.579655957334666,
          37.54350999974003,
          35.1636479638612,
          33.379777816446165,
          37.5776087830657,
          37.5663998518998,
          33.379777816446165,
          37.5655638710672,
          37.6834586643041,
          37.6561360415672,
          37.8034055083125,
          33.379777816446165,
          37.5532101173212,
          37.5251230282347,
          35.077914827298564,
          37.2869569586225,
          37.5292974433415,
          37.5345613066561,
          37.51131840799449,
          37.5829185302128,
          37.5773619926369,
          35.0843514968685,
          37.551279740966,
          38.1870016232572,
          37.55662311414043,
          37.5513049702718,
          35.09630012826786,
          35.49245838418908,
          37.6678291470139,
          33.433068041140075,
          35.8148243087693,
          35.18840281721384,
          34.7993798051192,
          37.601590273158,
          37.5568707448873,
          37.551279740966,
          36.09178603992931,
          37.393063959939425,
          37.60759496019467,
          37.51260447840551,
          35.0759454359851,
          37.5568707448873,
          37.265249076094435,
          37.4812845080678,
          38.19073872774693,
          37.5464440372535,
          37.53553394236617,
          35.16864392798528,
          35.78991466172384,
          37.5126453850716,
          37.3852045127064,
          37.5553965854703,
          37.551279740966,
          34.7472004533232,
          37.525872071029134,
          35.077914827298564,
          37.2891526817361,
          34.7159597989524,
          37.5734371942191,
          37.5755140820249,
          38.086979634132064,
          37.5794572790689,
          37.58056966858,
          35.1683562959139,
          37.7443338073502,
          37.5443222301513,
          37.53694681778275,
          38.330684523846,
          37.550874837441,
          37.5814300334622,
          37.559266655452944,
          36.8617986925507,
          37.5060750627914,
          33.5070789578184,
          37.5389267976167,
          35.78991466172384,
          36.34937377597455,
          33.23799399299591,
          35.83991953035569,
          35.8153866450026,
          33.5574388587079,
          35.2599067631886,
          35.8325754812219,
          37.5267558230172,
          38.19005288814373,
          37.1731740067772,
          35.160294214382716,
          37.5673174505789,
          37.20070867365914,
          36.5389828267328,
          37.754025117657804,
          37.55741631573425,
          37.5707881525953,
          35.8393348165945,
          36.8202720226268,
          33.39670048068425,
          35.4039187841942,
          37.37444621363425,
          35.376629428188,
          37.572602860810186,
          37.557560076670406,
          38.11912517931733,
          35.9035176790886,
          37.2810757709683,
          37.5240180044574,
          36.9693643407795,
          35.8734567463177,
          36.9888245349883,
          37.52638860108943,
          37.791693560311764,
          35.85322716591636,
          34.7520046170979,
          37.8459392886988,
          33.30591328662081,
          36.090673138304794,
          37.57262064091815,
          37.7041173279199,
          37.5061925878659,
          37.4817352855088,
          35.8576028148564,
          37.5553965854703,
          37.5812412820636,
          36.9946987212414,
          37.5696563183315,
          37.5387990752117,
          37.309429480381965,
          35.793265323781796,
          35.8230232153817,
          35.64738481498588,
          33.4973768007144,
          37.5097007912995,
          35.8688125525419,
          35.6098047788115,
          37.444805807258284,
          37.55694938489218,
          33.384959730607484,
          37.5128899169357,
          34.6459942292734,
          37.39279718014944,
          33.4134970849722,
          37.5258560246182,
          34.7746677942101,
          33.556469394054,
          37.881563852256,
          35.0809607224399,
          36.3599709654818,
          37.58159343708794,
          37.44446951034434,
          37.9124066163012,
          36.09178603992931,
          35.8148243087693,
          36.0780561712913,
          35.9427148480857,
          37.566564293688046,
          37.7091842052891,
          37.5061925878659,
          37.496762602171,
          37.5819066700213,
          33.23738579332568,
          37.274004218418,
          37.2410536000124,
          35.2325069110201,
          37.5356239765187,
          35.1297738339819,
          35.99322180644562,
          36.9800186509059,
          34.778856828051,
          37.2178921385733,
          37.8136129609739,
          33.3001768930001,
          35.4573561334282,
          37.5345613066561,
          37.56855522765132,
          35.83814999833691,
          37.5054540071803,
          33.3766655632143,
          35.0497986701075,
          37.5904038281362,
          37.5546788388674,
          35.18976821689522,
          35.3491062321099,
          36.76607895585671,
          35.859463234034216,
          37.791693560311764,
          37.1722091969137,
          36.4043358392606,
          37.74576283456182,
          37.5700282666334,
          37.505305732081965,
          37.56318453011765,
          35.2522665805712,
          35.7997197025815,
          36.86958468483109,
          34.2972777904718,
          37.5249188066868,
          35.2587639061243,
          37.596101261945115,
          34.9287726805087,
          35.159055286783726,
          37.55436171647713,
          35.32783714533351,
          37.29523923083522,
          37.443733481274116,
          36.35431246580609,
          37.2869569586225,
          34.458647690794,
          37.57395881968132,
          35.1585232170784,
          37.32628054915,
          38.125432743310995,
          36.98644142519413,
          37.5251230282347,
          37.572602860810186,
          36.3102317300706,
          33.45360917744684,
          36.794336572165605,
          37.56052658245116,
          37.055099525434,
          37.536466542454704,
          33.3766655632143,
          37.5454930733426,
          37.9056769537632,
          37.49863528388638,
          35.19008018357494,
          37.53366503676396,
          35.7666974629935,
          37.8034055083125,
          36.975676669087555,
          37.288861484847935,
          33.3122913114541,
          33.30269882152763,
          35.180877561285,
          34.751857862358,
          35.1033668597923,
          37.5563194254356,
          37.579655957334666,
          35.48586234622641,
          37.4717375833542,
          37.5655638710672,
          34.93361421021188,
          35.22736538649052,
          35.3213392252201,
          35.244418104542,
          37.6561360415672,
          37.4792312923908,
          35.1888262720926,
          35.0966427839943,
          37.2916012072667,
          37.6380555024502,
          35.31542378931977,
          34.80007258001897,
          37.846716002441,
          37.5542342319296,
          36.980412626252004,
          37.5794165384496,
          37.51131985755065,
          37.50683151565546,
          35.3212737647328,
          37.5743520602942,
          37.5691469686793,
          36.07727115244759,
          33.3477698762559,
          37.879202219338964,
          37.5738804844666,
          37.54885386444588,
          37.51766013568054,
          34.8609806474228,
          36.9238607086271,
          37.51131985755065,
          37.5634787135925,
          37.5729471865215,
          35.8498531247183,
          34.7446210175676,
          35.33689768203783,
          33.4506575078278,
          37.5132992896972,
          37.5444609837908,
          37.55727196379093,
          36.5016873730712,
          37.572602860810186,
          34.789908703139815,
          37.392686041267964,
          37.58056966858,
          37.5277755239083,
          33.314642147414716,
          37.5097007912995,
          36.2893534027601,
          37.4072182744526,
          35.1565648156251,
          37.551279740966,
          37.5217984491514,
          36.7823407033401,
          37.5533982943712,
          37.51710523750273,
          35.0843514968685,
          37.5250892160129,
          37.5347227952064,
          34.32641522933002,
          38.027834441415756,
          35.20704387774388,
          37.5640659343577,
          37.4789518575993,
          37.5250892160129,
          38.027834441415756,
          34.7156527529844,
          36.8763315980983,
          35.6179888999587,
          38.20131750285376,
          38.1885435402464,
          38.14840757932009,
          37.6414862798216,
          37.5178641354045,
          36.7847886254004,
          33.3938660776221,
          37.579416508351756,
          35.13006010998375,
          35.8230232153817,
          37.5258272783362,
          37.544782395189884,
          34.76929638286456,
          35.8357176888121,
          37.5659384342432,
          33.3192727556025,
          33.4102777124648,
          37.5577861212588,
          37.572600127753,
          37.58204391787134,
          37.5781910083009,
          37.793478014947176,
          37.0796073834165,
          37.00142079940585,
          37.5134889443798,
          37.512763958426994,
          37.6888241058484,
          35.1542799667248,
          36.757500292632194,
          37.5443222301513,
          38.14840757932009,
          37.2891526817361,
          37.4069785670025,
          37.5794165384496,
          35.05231978605008,
          37.67041236668757,
          37.2843652555841,
          36.826515513863,
          35.1565648156251,
          37.16783438705687,
          36.7389780733683,
          37.4360557449009,
          36.79492737110112,
          37.58657325133722,
          34.7920224100901,
          37.57943602295691,
          36.9256206705394,
          37.5620769169639,
          37.5311524042719,
          37.55147044344215,
          37.24291020655134,
          33.3938660776221,
          36.9888245349883,
          36.96022981505894,
          35.836252574629924,
          35.2317517351976,
          37.2819144990562,
          37.550874837441,
          37.562544705628845,
          37.6499534973208,
          35.8148243087693,
          37.3695742289207,
          37.5705616588662,
          37.58079664277135
         ],
         "legendgroup": "",
         "lon": [
          127.127815880474,
          127.00902108350806,
          127.062417480704,
          126.976896737645,
          127.059936935972,
          129.159854668484,
          126.976896737645,
          126.983384576672,
          129.28206598992438,
          126.70425227542555,
          126.98735609674071,
          129.226975518857,
          129.22462891150363,
          126.98561901337,
          127.296265770522,
          128.518141153901,
          126.99099980568673,
          127.07736428035886,
          129.158897240251,
          126.54587355630036,
          126.976896737645,
          126.974228917679,
          126.54587355630036,
          126.974894754989,
          129.043942880667,
          126.764141543966,
          128.910210247605,
          126.54587355630036,
          127.04650833192,
          127.033904321455,
          129.04528136992104,
          127.011795743342,
          127.06892112991,
          126.99580922812,
          127.05977688598037,
          126.983384576672,
          126.812982917632,
          129.023884011736,
          126.988217046052,
          127.295051714024,
          126.97029718561329,
          126.988230622132,
          129.00942831915552,
          129.43997358942727,
          126.891375864068,
          126.92784588473428,
          127.152557091072,
          129.2231430744025,
          126.37004340188588,
          126.980658058024,
          126.923778562273,
          126.988217046052,
          128.30022515965544,
          126.63862968940775,
          126.94698432423915,
          127.10255558658325,
          129.016954361828,
          126.923778562273,
          127.03773328597492,
          126.952713197762,
          128.6026902136017,
          127.043028992489,
          127.01107672502562,
          129.12907174004943,
          129.3318426090494,
          126.998407429526,
          126.644321136016,
          126.923580878826,
          126.988217046052,
          126.123068555346,
          126.92844612411159,
          129.04528136992104,
          126.576767387831,
          127.077901795169,
          126.989775723896,
          126.973161662111,
          128.66567114107605,
          126.98623370164968,
          127.007521763748,
          129.057403818219,
          127.352879287719,
          127.037617759165,
          126.97712765885771,
          128.52791763044,
          126.925554591431,
          126.982995455867,
          126.99474848811892,
          126.680274129173,
          127.006989504898,
          126.492769004244,
          127.075691738059,
          129.3318426090494,
          127.44283611814183,
          126.42601744245376,
          127.16703747285135,
          127.149729902972,
          126.759313988844,
          129.2337567183556,
          129.218916244204,
          127.039152029523,
          128.60409847805983,
          128.210563520673,
          129.16921767452897,
          127.012156747242,
          127.09791931212142,
          128.518141153901,
          128.8986237900098,
          127.04563269772498,
          126.968649079046,
          129.209645417434,
          126.786202307818,
          126.34501060259869,
          127.379781364826,
          126.72699245516932,
          126.541930122074,
          126.97691639601517,
          126.92673403106848,
          128.4653615314634,
          127.244621143181,
          127.901240966763,
          126.98021428621992,
          127.686277334127,
          129.224803247841,
          128.381696108875,
          126.93512931714196,
          127.52508704819692,
          128.56658131032162,
          127.982950534007,
          126.755066002582,
          126.28948929546861,
          128.6829120891451,
          126.97572100551191,
          127.449526160321,
          130.860436808926,
          126.953400331123,
          128.493305496557,
          126.923580878826,
          127.013460953369,
          128.394365136642,
          126.986756202034,
          127.072469149139,
          126.85402320176591,
          129.31442381576682,
          126.413021905999,
          128.73401526249253,
          126.452690819027,
          126.994629809971,
          128.601899941122,
          127.106394994292,
          126.70202482900666,
          126.97924358947482,
          126.8014989334944,
          127.011419491429,
          128.354324208877,
          127.11204751299005,
          126.75249576943,
          126.938335843486,
          128.641526158522,
          126.795805057888,
          128.831632543833,
          128.880777531551,
          127.357441439393,
          127.00002264258504,
          126.96389684735281,
          128.817101815108,
          128.30022515965544,
          127.152557091072,
          129.56973687334,
          128.640979002345,
          126.9886017493288,
          126.448555072944,
          130.860436808926,
          126.903375887306,
          126.969590881263,
          126.51530966206293,
          128.269224624107,
          131.867131133737,
          129.085043957321,
          127.131006444371,
          128.66414743693417,
          128.70424240980597,
          128.089589648044,
          127.74547599836,
          128.350250066542,
          128.897555797396,
          126.581329667008,
          126.842176502122,
          126.99580922812,
          126.98611119582282,
          129.21233472051617,
          127.435383773457,
          126.54222094512,
          126.998084023012,
          126.96590530631,
          126.970606917394,
          129.16092855712827,
          128.72753813773,
          126.88621540935412,
          129.22462891150363,
          127.52508704819692,
          126.624022794909,
          127.443867959344,
          126.48512011720544,
          126.998949546525,
          127.00432032924516,
          126.98735609674071,
          128.52020788659,
          128.522017358965,
          127.09450058089298,
          126.525759259436,
          128.29346806836,
          129.11115698248,
          126.8287096301388,
          127.499428647615,
          129.1432468763072,
          127.11111536900728,
          126.98593088715316,
          127.09320559948202,
          129.1721095466655,
          127.2274765131647,
          127.011795743342,
          127.170421064803,
          126.98185608504004,
          129.159854668484,
          129.020854083678,
          128.62797761765904,
          128.3707336533801,
          127.033904321455,
          126.97691639601517,
          126.513481592784,
          126.75493209633262,
          128.90855269828214,
          126.98065056929003,
          127.107452249043,
          126.97268914033664,
          126.54222094512,
          127.223691197241,
          127.309075181161,
          127.02699400109375,
          129.0583269466769,
          130.85801686732108,
          127.42842556854852,
          128.910210247605,
          127.91063602656168,
          127.01424321158507,
          126.464872004233,
          126.17939805346123,
          128.82930509028,
          128.019651638573,
          129.026656923019,
          126.923919460392,
          126.99099980568673,
          126.90551576766015,
          126.599231057618,
          126.974894754989,
          128.0531970700861,
          126.84160373760274,
          128.333084128219,
          129.222422056745,
          126.764141543966,
          129.159872201438,
          126.830909782424,
          129.038556199948,
          127.065839176278,
          126.946908304654,
          128.3554204104681,
          128.03855022577358,
          127.680384838921,
          129.118563356819,
          128.33957027965465,
          126.995199911733,
          127.09806349478795,
          127.03150850797986,
          128.333135836739,
          126.984731319433,
          126.978647068151,
          129.56937281614944,
          126.327321076199,
          127.09200199922985,
          126.989784719392,
          126.9076473683962,
          126.95803386590158,
          128.629541086564,
          126.378645566605,
          127.09806349478795,
          126.983742033809,
          127.008544323564,
          127.16180338402,
          128.663149179091,
          127.73061844800158,
          126.304673157235,
          127.12572365099,
          126.968542424231,
          126.92854060363454,
          126.367114705763,
          126.97691639601517,
          126.37263283814109,
          126.97362787618033,
          127.007521763748,
          127.039849452704,
          126.27365976756127,
          126.994629809971,
          127.397754143625,
          126.634896508214,
          129.152021092751,
          126.988217046052,
          126.983574610978,
          126.963651944548,
          127.23669542465,
          126.90307140055172,
          129.023884011736,
          126.947545050571,
          126.9865496751,
          126.7493296342443,
          128.71728231189653,
          128.57465000540392,
          126.982157296677,
          127.507031264905,
          126.947545050571,
          128.71728231189653,
          127.078774842327,
          128.082282626708,
          126.587442267334,
          128.58707395545795,
          128.603803997428,
          128.39306480593385,
          126.939092437378,
          126.959097047391,
          126.140426408147,
          126.239157539085,
          126.94140269870839,
          126.99352658092204,
          126.413021905999,
          126.915221437055,
          127.05820807890457,
          128.71165107261427,
          128.556467234482,
          126.973740099183,
          126.385969459857,
          126.227348369237,
          126.913279343754,
          127.01808924966633,
          127.00194500977393,
          127.008069450086,
          128.54263897286106,
          129.201347222599,
          128.3999812135974,
          126.949951101496,
          127.05727267755724,
          128.59761535621,
          129.127000968254,
          127.31693061688969,
          127.037617759165,
          128.39306480593385,
          126.576767387831,
          128.512570778605,
          126.995199911733,
          129.09196967936862,
          126.99086417405317,
          127.066933469349,
          127.137804236908,
          129.152021092751,
          127.10452210465446,
          126.133584005,
          127.006752481821,
          126.14639472308825,
          126.9748537345249,
          126.425759127126,
          126.88942135174955,
          128.580202883743,
          126.984901336292,
          126.837852623984,
          127.08378909469191,
          127.08118995506915,
          126.239157539085,
          128.381696108875,
          128.33236426859264,
          129.28206598992438,
          129.085358507657,
          127.014041185109,
          126.925554591431,
          126.94765009467245,
          127.68691203933,
          127.152557091072,
          127.110089261499,
          127.000633898859,
          127.00863578989066
         ],
         "marker": {
          "color": "#636efa"
         },
         "mode": "markers",
         "name": "",
         "showlegend": false,
         "subplot": "mapbox",
         "type": "scattermapbox"
        }
       ],
       "layout": {
        "legend": {
         "tracegroupgap": 0
        },
        "mapbox": {
         "center": {
          "lat": 36.60827039193356,
          "lon": 127.53270254546382
         },
         "domain": {
          "x": [
           0,
           1
          ],
          "y": [
           0,
           1
          ]
         },
         "style": "open-street-map",
         "zoom": 6
        },
        "margin": {
         "t": 60
        },
        "template": {
         "data": {
          "bar": [
           {
            "error_x": {
             "color": "#2a3f5f"
            },
            "error_y": {
             "color": "#2a3f5f"
            },
            "marker": {
             "line": {
              "color": "#E5ECF6",
              "width": 0.5
             },
             "pattern": {
              "fillmode": "overlay",
              "size": 10,
              "solidity": 0.2
             }
            },
            "type": "bar"
           }
          ],
          "barpolar": [
           {
            "marker": {
             "line": {
              "color": "#E5ECF6",
              "width": 0.5
             },
             "pattern": {
              "fillmode": "overlay",
              "size": 10,
              "solidity": 0.2
             }
            },
            "type": "barpolar"
           }
          ],
          "carpet": [
           {
            "aaxis": {
             "endlinecolor": "#2a3f5f",
             "gridcolor": "white",
             "linecolor": "white",
             "minorgridcolor": "white",
             "startlinecolor": "#2a3f5f"
            },
            "baxis": {
             "endlinecolor": "#2a3f5f",
             "gridcolor": "white",
             "linecolor": "white",
             "minorgridcolor": "white",
             "startlinecolor": "#2a3f5f"
            },
            "type": "carpet"
           }
          ],
          "choropleth": [
           {
            "colorbar": {
             "outlinewidth": 0,
             "ticks": ""
            },
            "type": "choropleth"
           }
          ],
          "contour": [
           {
            "colorbar": {
             "outlinewidth": 0,
             "ticks": ""
            },
            "colorscale": [
             [
              0,
              "#0d0887"
             ],
             [
              0.1111111111111111,
              "#46039f"
             ],
             [
              0.2222222222222222,
              "#7201a8"
             ],
             [
              0.3333333333333333,
              "#9c179e"
             ],
             [
              0.4444444444444444,
              "#bd3786"
             ],
             [
              0.5555555555555556,
              "#d8576b"
             ],
             [
              0.6666666666666666,
              "#ed7953"
             ],
             [
              0.7777777777777778,
              "#fb9f3a"
             ],
             [
              0.8888888888888888,
              "#fdca26"
             ],
             [
              1,
              "#f0f921"
             ]
            ],
            "type": "contour"
           }
          ],
          "contourcarpet": [
           {
            "colorbar": {
             "outlinewidth": 0,
             "ticks": ""
            },
            "type": "contourcarpet"
           }
          ],
          "heatmap": [
           {
            "colorbar": {
             "outlinewidth": 0,
             "ticks": ""
            },
            "colorscale": [
             [
              0,
              "#0d0887"
             ],
             [
              0.1111111111111111,
              "#46039f"
             ],
             [
              0.2222222222222222,
              "#7201a8"
             ],
             [
              0.3333333333333333,
              "#9c179e"
             ],
             [
              0.4444444444444444,
              "#bd3786"
             ],
             [
              0.5555555555555556,
              "#d8576b"
             ],
             [
              0.6666666666666666,
              "#ed7953"
             ],
             [
              0.7777777777777778,
              "#fb9f3a"
             ],
             [
              0.8888888888888888,
              "#fdca26"
             ],
             [
              1,
              "#f0f921"
             ]
            ],
            "type": "heatmap"
           }
          ],
          "heatmapgl": [
           {
            "colorbar": {
             "outlinewidth": 0,
             "ticks": ""
            },
            "colorscale": [
             [
              0,
              "#0d0887"
             ],
             [
              0.1111111111111111,
              "#46039f"
             ],
             [
              0.2222222222222222,
              "#7201a8"
             ],
             [
              0.3333333333333333,
              "#9c179e"
             ],
             [
              0.4444444444444444,
              "#bd3786"
             ],
             [
              0.5555555555555556,
              "#d8576b"
             ],
             [
              0.6666666666666666,
              "#ed7953"
             ],
             [
              0.7777777777777778,
              "#fb9f3a"
             ],
             [
              0.8888888888888888,
              "#fdca26"
             ],
             [
              1,
              "#f0f921"
             ]
            ],
            "type": "heatmapgl"
           }
          ],
          "histogram": [
           {
            "marker": {
             "pattern": {
              "fillmode": "overlay",
              "size": 10,
              "solidity": 0.2
             }
            },
            "type": "histogram"
           }
          ],
          "histogram2d": [
           {
            "colorbar": {
             "outlinewidth": 0,
             "ticks": ""
            },
            "colorscale": [
             [
              0,
              "#0d0887"
             ],
             [
              0.1111111111111111,
              "#46039f"
             ],
             [
              0.2222222222222222,
              "#7201a8"
             ],
             [
              0.3333333333333333,
              "#9c179e"
             ],
             [
              0.4444444444444444,
              "#bd3786"
             ],
             [
              0.5555555555555556,
              "#d8576b"
             ],
             [
              0.6666666666666666,
              "#ed7953"
             ],
             [
              0.7777777777777778,
              "#fb9f3a"
             ],
             [
              0.8888888888888888,
              "#fdca26"
             ],
             [
              1,
              "#f0f921"
             ]
            ],
            "type": "histogram2d"
           }
          ],
          "histogram2dcontour": [
           {
            "colorbar": {
             "outlinewidth": 0,
             "ticks": ""
            },
            "colorscale": [
             [
              0,
              "#0d0887"
             ],
             [
              0.1111111111111111,
              "#46039f"
             ],
             [
              0.2222222222222222,
              "#7201a8"
             ],
             [
              0.3333333333333333,
              "#9c179e"
             ],
             [
              0.4444444444444444,
              "#bd3786"
             ],
             [
              0.5555555555555556,
              "#d8576b"
             ],
             [
              0.6666666666666666,
              "#ed7953"
             ],
             [
              0.7777777777777778,
              "#fb9f3a"
             ],
             [
              0.8888888888888888,
              "#fdca26"
             ],
             [
              1,
              "#f0f921"
             ]
            ],
            "type": "histogram2dcontour"
           }
          ],
          "mesh3d": [
           {
            "colorbar": {
             "outlinewidth": 0,
             "ticks": ""
            },
            "type": "mesh3d"
           }
          ],
          "parcoords": [
           {
            "line": {
             "colorbar": {
              "outlinewidth": 0,
              "ticks": ""
             }
            },
            "type": "parcoords"
           }
          ],
          "pie": [
           {
            "automargin": true,
            "type": "pie"
           }
          ],
          "scatter": [
           {
            "marker": {
             "colorbar": {
              "outlinewidth": 0,
              "ticks": ""
             }
            },
            "type": "scatter"
           }
          ],
          "scatter3d": [
           {
            "line": {
             "colorbar": {
              "outlinewidth": 0,
              "ticks": ""
             }
            },
            "marker": {
             "colorbar": {
              "outlinewidth": 0,
              "ticks": ""
             }
            },
            "type": "scatter3d"
           }
          ],
          "scattercarpet": [
           {
            "marker": {
             "colorbar": {
              "outlinewidth": 0,
              "ticks": ""
             }
            },
            "type": "scattercarpet"
           }
          ],
          "scattergeo": [
           {
            "marker": {
             "colorbar": {
              "outlinewidth": 0,
              "ticks": ""
             }
            },
            "type": "scattergeo"
           }
          ],
          "scattergl": [
           {
            "marker": {
             "colorbar": {
              "outlinewidth": 0,
              "ticks": ""
             }
            },
            "type": "scattergl"
           }
          ],
          "scattermapbox": [
           {
            "marker": {
             "colorbar": {
              "outlinewidth": 0,
              "ticks": ""
             }
            },
            "type": "scattermapbox"
           }
          ],
          "scatterpolar": [
           {
            "marker": {
             "colorbar": {
              "outlinewidth": 0,
              "ticks": ""
             }
            },
            "type": "scatterpolar"
           }
          ],
          "scatterpolargl": [
           {
            "marker": {
             "colorbar": {
              "outlinewidth": 0,
              "ticks": ""
             }
            },
            "type": "scatterpolargl"
           }
          ],
          "scatterternary": [
           {
            "marker": {
             "colorbar": {
              "outlinewidth": 0,
              "ticks": ""
             }
            },
            "type": "scatterternary"
           }
          ],
          "surface": [
           {
            "colorbar": {
             "outlinewidth": 0,
             "ticks": ""
            },
            "colorscale": [
             [
              0,
              "#0d0887"
             ],
             [
              0.1111111111111111,
              "#46039f"
             ],
             [
              0.2222222222222222,
              "#7201a8"
             ],
             [
              0.3333333333333333,
              "#9c179e"
             ],
             [
              0.4444444444444444,
              "#bd3786"
             ],
             [
              0.5555555555555556,
              "#d8576b"
             ],
             [
              0.6666666666666666,
              "#ed7953"
             ],
             [
              0.7777777777777778,
              "#fb9f3a"
             ],
             [
              0.8888888888888888,
              "#fdca26"
             ],
             [
              1,
              "#f0f921"
             ]
            ],
            "type": "surface"
           }
          ],
          "table": [
           {
            "cells": {
             "fill": {
              "color": "#EBF0F8"
             },
             "line": {
              "color": "white"
             }
            },
            "header": {
             "fill": {
              "color": "#C8D4E3"
             },
             "line": {
              "color": "white"
             }
            },
            "type": "table"
           }
          ]
         },
         "layout": {
          "annotationdefaults": {
           "arrowcolor": "#2a3f5f",
           "arrowhead": 0,
           "arrowwidth": 1
          },
          "autotypenumbers": "strict",
          "coloraxis": {
           "colorbar": {
            "outlinewidth": 0,
            "ticks": ""
           }
          },
          "colorscale": {
           "diverging": [
            [
             0,
             "#8e0152"
            ],
            [
             0.1,
             "#c51b7d"
            ],
            [
             0.2,
             "#de77ae"
            ],
            [
             0.3,
             "#f1b6da"
            ],
            [
             0.4,
             "#fde0ef"
            ],
            [
             0.5,
             "#f7f7f7"
            ],
            [
             0.6,
             "#e6f5d0"
            ],
            [
             0.7,
             "#b8e186"
            ],
            [
             0.8,
             "#7fbc41"
            ],
            [
             0.9,
             "#4d9221"
            ],
            [
             1,
             "#276419"
            ]
           ],
           "sequential": [
            [
             0,
             "#0d0887"
            ],
            [
             0.1111111111111111,
             "#46039f"
            ],
            [
             0.2222222222222222,
             "#7201a8"
            ],
            [
             0.3333333333333333,
             "#9c179e"
            ],
            [
             0.4444444444444444,
             "#bd3786"
            ],
            [
             0.5555555555555556,
             "#d8576b"
            ],
            [
             0.6666666666666666,
             "#ed7953"
            ],
            [
             0.7777777777777778,
             "#fb9f3a"
            ],
            [
             0.8888888888888888,
             "#fdca26"
            ],
            [
             1,
             "#f0f921"
            ]
           ],
           "sequentialminus": [
            [
             0,
             "#0d0887"
            ],
            [
             0.1111111111111111,
             "#46039f"
            ],
            [
             0.2222222222222222,
             "#7201a8"
            ],
            [
             0.3333333333333333,
             "#9c179e"
            ],
            [
             0.4444444444444444,
             "#bd3786"
            ],
            [
             0.5555555555555556,
             "#d8576b"
            ],
            [
             0.6666666666666666,
             "#ed7953"
            ],
            [
             0.7777777777777778,
             "#fb9f3a"
            ],
            [
             0.8888888888888888,
             "#fdca26"
            ],
            [
             1,
             "#f0f921"
            ]
           ]
          },
          "colorway": [
           "#636efa",
           "#EF553B",
           "#00cc96",
           "#ab63fa",
           "#FFA15A",
           "#19d3f3",
           "#FF6692",
           "#B6E880",
           "#FF97FF",
           "#FECB52"
          ],
          "font": {
           "color": "#2a3f5f"
          },
          "geo": {
           "bgcolor": "white",
           "lakecolor": "white",
           "landcolor": "#E5ECF6",
           "showlakes": true,
           "showland": true,
           "subunitcolor": "white"
          },
          "hoverlabel": {
           "align": "left"
          },
          "hovermode": "closest",
          "mapbox": {
           "style": "light"
          },
          "paper_bgcolor": "white",
          "plot_bgcolor": "#E5ECF6",
          "polar": {
           "angularaxis": {
            "gridcolor": "white",
            "linecolor": "white",
            "ticks": ""
           },
           "bgcolor": "#E5ECF6",
           "radialaxis": {
            "gridcolor": "white",
            "linecolor": "white",
            "ticks": ""
           }
          },
          "scene": {
           "xaxis": {
            "backgroundcolor": "#E5ECF6",
            "gridcolor": "white",
            "gridwidth": 2,
            "linecolor": "white",
            "showbackground": true,
            "ticks": "",
            "zerolinecolor": "white"
           },
           "yaxis": {
            "backgroundcolor": "#E5ECF6",
            "gridcolor": "white",
            "gridwidth": 2,
            "linecolor": "white",
            "showbackground": true,
            "ticks": "",
            "zerolinecolor": "white"
           },
           "zaxis": {
            "backgroundcolor": "#E5ECF6",
            "gridcolor": "white",
            "gridwidth": 2,
            "linecolor": "white",
            "showbackground": true,
            "ticks": "",
            "zerolinecolor": "white"
           }
          },
          "shapedefaults": {
           "line": {
            "color": "#2a3f5f"
           }
          },
          "ternary": {
           "aaxis": {
            "gridcolor": "white",
            "linecolor": "white",
            "ticks": ""
           },
           "baxis": {
            "gridcolor": "white",
            "linecolor": "white",
            "ticks": ""
           },
           "bgcolor": "#E5ECF6",
           "caxis": {
            "gridcolor": "white",
            "linecolor": "white",
            "ticks": ""
           }
          },
          "title": {
           "x": 0.05
          },
          "xaxis": {
           "automargin": true,
           "gridcolor": "white",
           "linecolor": "white",
           "ticks": "",
           "title": {
            "standoff": 15
           },
           "zerolinecolor": "white",
           "zerolinewidth": 2
          },
          "yaxis": {
           "automargin": true,
           "gridcolor": "white",
           "linecolor": "white",
           "ticks": "",
           "title": {
            "standoff": 15
           },
           "zerolinecolor": "white",
           "zerolinewidth": 2
          }
         }
        }
       }
      },
      "text/html": [
       "<div>                            <div id=\"0a1aea4c-79ec-44eb-b93d-10fc44aefefc\" class=\"plotly-graph-div\" style=\"height:525px; width:100%;\"></div>            <script type=\"text/javascript\">                require([\"plotly\"], function(Plotly) {                    window.PLOTLYENV=window.PLOTLYENV || {};                                    if (document.getElementById(\"0a1aea4c-79ec-44eb-b93d-10fc44aefefc\")) {                    Plotly.newPlot(                        \"0a1aea4c-79ec-44eb-b93d-10fc44aefefc\",                        [{\"hovertemplate\":\"\\uc704\\ub3c4=%{lat}<br>\\uacbd\\ub3c4=%{lon}<extra></extra>\",\"lat\":[37.5011839406236,37.65888882945633,37.5067075025853,37.5776087830657,37.5162738482712,35.1585232170784,37.5776087830657,37.5829185302128,35.836252574629924,36.801517403322485,37.56318453011765,35.8347762643542,35.859463234034216,37.5733610774662,37.523644471292,36.5389828267328,37.579655957334666,37.54350999974003,35.1636479638612,33.379777816446165,37.5776087830657,37.5663998518998,33.379777816446165,37.5655638710672,37.6834586643041,37.6561360415672,37.8034055083125,33.379777816446165,37.5532101173212,37.5251230282347,35.077914827298564,37.2869569586225,37.5292974433415,37.5345613066561,37.51131840799449,37.5829185302128,37.5773619926369,35.0843514968685,37.551279740966,38.1870016232572,37.55662311414043,37.5513049702718,35.09630012826786,35.49245838418908,37.6678291470139,33.433068041140075,35.8148243087693,35.18840281721384,34.7993798051192,37.601590273158,37.5568707448873,37.551279740966,36.09178603992931,37.393063959939425,37.60759496019467,37.51260447840551,35.0759454359851,37.5568707448873,37.265249076094435,37.4812845080678,38.19073872774693,37.5464440372535,37.53553394236617,35.16864392798528,35.78991466172384,37.5126453850716,37.3852045127064,37.5553965854703,37.551279740966,34.7472004533232,37.525872071029134,35.077914827298564,37.2891526817361,34.7159597989524,37.5734371942191,37.5755140820249,38.086979634132064,37.5794572790689,37.58056966858,35.1683562959139,37.7443338073502,37.5443222301513,37.53694681778275,38.330684523846,37.550874837441,37.5814300334622,37.559266655452944,36.8617986925507,37.5060750627914,33.5070789578184,37.5389267976167,35.78991466172384,36.34937377597455,33.23799399299591,35.83991953035569,35.8153866450026,33.5574388587079,35.2599067631886,35.8325754812219,37.5267558230172,38.19005288814373,37.1731740067772,35.160294214382716,37.5673174505789,37.20070867365914,36.5389828267328,37.754025117657804,37.55741631573425,37.5707881525953,35.8393348165945,36.8202720226268,33.39670048068425,35.4039187841942,37.37444621363425,35.376629428188,37.572602860810186,37.557560076670406,38.11912517931733,35.9035176790886,37.2810757709683,37.5240180044574,36.9693643407795,35.8734567463177,36.9888245349883,37.52638860108943,37.791693560311764,35.85322716591636,34.7520046170979,37.8459392886988,33.30591328662081,36.090673138304794,37.57262064091815,37.7041173279199,37.5061925878659,37.4817352855088,35.8576028148564,37.5553965854703,37.5812412820636,36.9946987212414,37.5696563183315,37.5387990752117,37.309429480381965,35.793265323781796,35.8230232153817,35.64738481498588,33.4973768007144,37.5097007912995,35.8688125525419,35.6098047788115,37.444805807258284,37.55694938489218,33.384959730607484,37.5128899169357,34.6459942292734,37.39279718014944,33.4134970849722,37.5258560246182,34.7746677942101,33.556469394054,37.881563852256,35.0809607224399,36.3599709654818,37.58159343708794,37.44446951034434,37.9124066163012,36.09178603992931,35.8148243087693,36.0780561712913,35.9427148480857,37.566564293688046,37.7091842052891,37.5061925878659,37.496762602171,37.5819066700213,33.23738579332568,37.274004218418,37.2410536000124,35.2325069110201,37.5356239765187,35.1297738339819,35.99322180644562,36.9800186509059,34.778856828051,37.2178921385733,37.8136129609739,33.3001768930001,35.4573561334282,37.5345613066561,37.56855522765132,35.83814999833691,37.5054540071803,33.3766655632143,35.0497986701075,37.5904038281362,37.5546788388674,35.18976821689522,35.3491062321099,36.76607895585671,35.859463234034216,37.791693560311764,37.1722091969137,36.4043358392606,37.74576283456182,37.5700282666334,37.505305732081965,37.56318453011765,35.2522665805712,35.7997197025815,36.86958468483109,34.2972777904718,37.5249188066868,35.2587639061243,37.596101261945115,34.9287726805087,35.159055286783726,37.55436171647713,35.32783714533351,37.29523923083522,37.443733481274116,36.35431246580609,37.2869569586225,34.458647690794,37.57395881968132,35.1585232170784,37.32628054915,38.125432743310995,36.98644142519413,37.5251230282347,37.572602860810186,36.3102317300706,33.45360917744684,36.794336572165605,37.56052658245116,37.055099525434,37.536466542454704,33.3766655632143,37.5454930733426,37.9056769537632,37.49863528388638,35.19008018357494,37.53366503676396,35.7666974629935,37.8034055083125,36.975676669087555,37.288861484847935,33.3122913114541,33.30269882152763,35.180877561285,34.751857862358,35.1033668597923,37.5563194254356,37.579655957334666,35.48586234622641,37.4717375833542,37.5655638710672,34.93361421021188,35.22736538649052,35.3213392252201,35.244418104542,37.6561360415672,37.4792312923908,35.1888262720926,35.0966427839943,37.2916012072667,37.6380555024502,35.31542378931977,34.80007258001897,37.846716002441,37.5542342319296,36.980412626252004,37.5794165384496,37.51131985755065,37.50683151565546,35.3212737647328,37.5743520602942,37.5691469686793,36.07727115244759,33.3477698762559,37.879202219338964,37.5738804844666,37.54885386444588,37.51766013568054,34.8609806474228,36.9238607086271,37.51131985755065,37.5634787135925,37.5729471865215,35.8498531247183,34.7446210175676,35.33689768203783,33.4506575078278,37.5132992896972,37.5444609837908,37.55727196379093,36.5016873730712,37.572602860810186,34.789908703139815,37.392686041267964,37.58056966858,37.5277755239083,33.314642147414716,37.5097007912995,36.2893534027601,37.4072182744526,35.1565648156251,37.551279740966,37.5217984491514,36.7823407033401,37.5533982943712,37.51710523750273,35.0843514968685,37.5250892160129,37.5347227952064,34.32641522933002,38.027834441415756,35.20704387774388,37.5640659343577,37.4789518575993,37.5250892160129,38.027834441415756,34.7156527529844,36.8763315980983,35.6179888999587,38.20131750285376,38.1885435402464,38.14840757932009,37.6414862798216,37.5178641354045,36.7847886254004,33.3938660776221,37.579416508351756,35.13006010998375,35.8230232153817,37.5258272783362,37.544782395189884,34.76929638286456,35.8357176888121,37.5659384342432,33.3192727556025,33.4102777124648,37.5577861212588,37.572600127753,37.58204391787134,37.5781910083009,37.793478014947176,37.0796073834165,37.00142079940585,37.5134889443798,37.512763958426994,37.6888241058484,35.1542799667248,36.757500292632194,37.5443222301513,38.14840757932009,37.2891526817361,37.4069785670025,37.5794165384496,35.05231978605008,37.67041236668757,37.2843652555841,36.826515513863,35.1565648156251,37.16783438705687,36.7389780733683,37.4360557449009,36.79492737110112,37.58657325133722,34.7920224100901,37.57943602295691,36.9256206705394,37.5620769169639,37.5311524042719,37.55147044344215,37.24291020655134,33.3938660776221,36.9888245349883,36.96022981505894,35.836252574629924,35.2317517351976,37.2819144990562,37.550874837441,37.562544705628845,37.6499534973208,35.8148243087693,37.3695742289207,37.5705616588662,37.58079664277135],\"legendgroup\":\"\",\"lon\":[127.127815880474,127.00902108350806,127.062417480704,126.976896737645,127.059936935972,129.159854668484,126.976896737645,126.983384576672,129.28206598992438,126.70425227542555,126.98735609674071,129.226975518857,129.22462891150363,126.98561901337,127.296265770522,128.518141153901,126.99099980568673,127.07736428035886,129.158897240251,126.54587355630036,126.976896737645,126.974228917679,126.54587355630036,126.974894754989,129.043942880667,126.764141543966,128.910210247605,126.54587355630036,127.04650833192,127.033904321455,129.04528136992104,127.011795743342,127.06892112991,126.99580922812,127.05977688598037,126.983384576672,126.812982917632,129.023884011736,126.988217046052,127.295051714024,126.97029718561329,126.988230622132,129.00942831915552,129.43997358942727,126.891375864068,126.92784588473428,127.152557091072,129.2231430744025,126.37004340188588,126.980658058024,126.923778562273,126.988217046052,128.30022515965544,126.63862968940775,126.94698432423915,127.10255558658325,129.016954361828,126.923778562273,127.03773328597492,126.952713197762,128.6026902136017,127.043028992489,127.01107672502562,129.12907174004943,129.3318426090494,126.998407429526,126.644321136016,126.923580878826,126.988217046052,126.123068555346,126.92844612411159,129.04528136992104,126.576767387831,127.077901795169,126.989775723896,126.973161662111,128.66567114107605,126.98623370164968,127.007521763748,129.057403818219,127.352879287719,127.037617759165,126.97712765885771,128.52791763044,126.925554591431,126.982995455867,126.99474848811892,126.680274129173,127.006989504898,126.492769004244,127.075691738059,129.3318426090494,127.44283611814183,126.42601744245376,127.16703747285135,127.149729902972,126.759313988844,129.2337567183556,129.218916244204,127.039152029523,128.60409847805983,128.210563520673,129.16921767452897,127.012156747242,127.09791931212142,128.518141153901,128.8986237900098,127.04563269772498,126.968649079046,129.209645417434,126.786202307818,126.34501060259869,127.379781364826,126.72699245516932,126.541930122074,126.97691639601517,126.92673403106848,128.4653615314634,127.244621143181,127.901240966763,126.98021428621992,127.686277334127,129.224803247841,128.381696108875,126.93512931714196,127.52508704819692,128.56658131032162,127.982950534007,126.755066002582,126.28948929546861,128.6829120891451,126.97572100551191,127.449526160321,130.860436808926,126.953400331123,128.493305496557,126.923580878826,127.013460953369,128.394365136642,126.986756202034,127.072469149139,126.85402320176591,129.31442381576682,126.413021905999,128.73401526249253,126.452690819027,126.994629809971,128.601899941122,127.106394994292,126.70202482900666,126.97924358947482,126.8014989334944,127.011419491429,128.354324208877,127.11204751299005,126.75249576943,126.938335843486,128.641526158522,126.795805057888,128.831632543833,128.880777531551,127.357441439393,127.00002264258504,126.96389684735281,128.817101815108,128.30022515965544,127.152557091072,129.56973687334,128.640979002345,126.9886017493288,126.448555072944,130.860436808926,126.903375887306,126.969590881263,126.51530966206293,128.269224624107,131.867131133737,129.085043957321,127.131006444371,128.66414743693417,128.70424240980597,128.089589648044,127.74547599836,128.350250066542,128.897555797396,126.581329667008,126.842176502122,126.99580922812,126.98611119582282,129.21233472051617,127.435383773457,126.54222094512,126.998084023012,126.96590530631,126.970606917394,129.16092855712827,128.72753813773,126.88621540935412,129.22462891150363,127.52508704819692,126.624022794909,127.443867959344,126.48512011720544,126.998949546525,127.00432032924516,126.98735609674071,128.52020788659,128.522017358965,127.09450058089298,126.525759259436,128.29346806836,129.11115698248,126.8287096301388,127.499428647615,129.1432468763072,127.11111536900728,126.98593088715316,127.09320559948202,129.1721095466655,127.2274765131647,127.011795743342,127.170421064803,126.98185608504004,129.159854668484,129.020854083678,128.62797761765904,128.3707336533801,127.033904321455,126.97691639601517,126.513481592784,126.75493209633262,128.90855269828214,126.98065056929003,127.107452249043,126.97268914033664,126.54222094512,127.223691197241,127.309075181161,127.02699400109375,129.0583269466769,130.85801686732108,127.42842556854852,128.910210247605,127.91063602656168,127.01424321158507,126.464872004233,126.17939805346123,128.82930509028,128.019651638573,129.026656923019,126.923919460392,126.99099980568673,126.90551576766015,126.599231057618,126.974894754989,128.0531970700861,126.84160373760274,128.333084128219,129.222422056745,126.764141543966,129.159872201438,126.830909782424,129.038556199948,127.065839176278,126.946908304654,128.3554204104681,128.03855022577358,127.680384838921,129.118563356819,128.33957027965465,126.995199911733,127.09806349478795,127.03150850797986,128.333135836739,126.984731319433,126.978647068151,129.56937281614944,126.327321076199,127.09200199922985,126.989784719392,126.9076473683962,126.95803386590158,128.629541086564,126.378645566605,127.09806349478795,126.983742033809,127.008544323564,127.16180338402,128.663149179091,127.73061844800158,126.304673157235,127.12572365099,126.968542424231,126.92854060363454,126.367114705763,126.97691639601517,126.37263283814109,126.97362787618033,127.007521763748,127.039849452704,126.27365976756127,126.994629809971,127.397754143625,126.634896508214,129.152021092751,126.988217046052,126.983574610978,126.963651944548,127.23669542465,126.90307140055172,129.023884011736,126.947545050571,126.9865496751,126.7493296342443,128.71728231189653,128.57465000540392,126.982157296677,127.507031264905,126.947545050571,128.71728231189653,127.078774842327,128.082282626708,126.587442267334,128.58707395545795,128.603803997428,128.39306480593385,126.939092437378,126.959097047391,126.140426408147,126.239157539085,126.94140269870839,126.99352658092204,126.413021905999,126.915221437055,127.05820807890457,128.71165107261427,128.556467234482,126.973740099183,126.385969459857,126.227348369237,126.913279343754,127.01808924966633,127.00194500977393,127.008069450086,128.54263897286106,129.201347222599,128.3999812135974,126.949951101496,127.05727267755724,128.59761535621,129.127000968254,127.31693061688969,127.037617759165,128.39306480593385,126.576767387831,128.512570778605,126.995199911733,129.09196967936862,126.99086417405317,127.066933469349,127.137804236908,129.152021092751,127.10452210465446,126.133584005,127.006752481821,126.14639472308825,126.9748537345249,126.425759127126,126.88942135174955,128.580202883743,126.984901336292,126.837852623984,127.08378909469191,127.08118995506915,126.239157539085,128.381696108875,128.33236426859264,129.28206598992438,129.085358507657,127.014041185109,126.925554591431,126.94765009467245,127.68691203933,127.152557091072,127.110089261499,127.000633898859,127.00863578989066],\"marker\":{\"color\":\"#636efa\"},\"mode\":\"markers\",\"name\":\"\",\"showlegend\":false,\"subplot\":\"mapbox\",\"type\":\"scattermapbox\"}],                        {\"template\":{\"data\":{\"bar\":[{\"error_x\":{\"color\":\"#2a3f5f\"},\"error_y\":{\"color\":\"#2a3f5f\"},\"marker\":{\"line\":{\"color\":\"#E5ECF6\",\"width\":0.5},\"pattern\":{\"fillmode\":\"overlay\",\"size\":10,\"solidity\":0.2}},\"type\":\"bar\"}],\"barpolar\":[{\"marker\":{\"line\":{\"color\":\"#E5ECF6\",\"width\":0.5},\"pattern\":{\"fillmode\":\"overlay\",\"size\":10,\"solidity\":0.2}},\"type\":\"barpolar\"}],\"carpet\":[{\"aaxis\":{\"endlinecolor\":\"#2a3f5f\",\"gridcolor\":\"white\",\"linecolor\":\"white\",\"minorgridcolor\":\"white\",\"startlinecolor\":\"#2a3f5f\"},\"baxis\":{\"endlinecolor\":\"#2a3f5f\",\"gridcolor\":\"white\",\"linecolor\":\"white\",\"minorgridcolor\":\"white\",\"startlinecolor\":\"#2a3f5f\"},\"type\":\"carpet\"}],\"choropleth\":[{\"colorbar\":{\"outlinewidth\":0,\"ticks\":\"\"},\"type\":\"choropleth\"}],\"contour\":[{\"colorbar\":{\"outlinewidth\":0,\"ticks\":\"\"},\"colorscale\":[[0.0,\"#0d0887\"],[0.1111111111111111,\"#46039f\"],[0.2222222222222222,\"#7201a8\"],[0.3333333333333333,\"#9c179e\"],[0.4444444444444444,\"#bd3786\"],[0.5555555555555556,\"#d8576b\"],[0.6666666666666666,\"#ed7953\"],[0.7777777777777778,\"#fb9f3a\"],[0.8888888888888888,\"#fdca26\"],[1.0,\"#f0f921\"]],\"type\":\"contour\"}],\"contourcarpet\":[{\"colorbar\":{\"outlinewidth\":0,\"ticks\":\"\"},\"type\":\"contourcarpet\"}],\"heatmap\":[{\"colorbar\":{\"outlinewidth\":0,\"ticks\":\"\"},\"colorscale\":[[0.0,\"#0d0887\"],[0.1111111111111111,\"#46039f\"],[0.2222222222222222,\"#7201a8\"],[0.3333333333333333,\"#9c179e\"],[0.4444444444444444,\"#bd3786\"],[0.5555555555555556,\"#d8576b\"],[0.6666666666666666,\"#ed7953\"],[0.7777777777777778,\"#fb9f3a\"],[0.8888888888888888,\"#fdca26\"],[1.0,\"#f0f921\"]],\"type\":\"heatmap\"}],\"heatmapgl\":[{\"colorbar\":{\"outlinewidth\":0,\"ticks\":\"\"},\"colorscale\":[[0.0,\"#0d0887\"],[0.1111111111111111,\"#46039f\"],[0.2222222222222222,\"#7201a8\"],[0.3333333333333333,\"#9c179e\"],[0.4444444444444444,\"#bd3786\"],[0.5555555555555556,\"#d8576b\"],[0.6666666666666666,\"#ed7953\"],[0.7777777777777778,\"#fb9f3a\"],[0.8888888888888888,\"#fdca26\"],[1.0,\"#f0f921\"]],\"type\":\"heatmapgl\"}],\"histogram\":[{\"marker\":{\"pattern\":{\"fillmode\":\"overlay\",\"size\":10,\"solidity\":0.2}},\"type\":\"histogram\"}],\"histogram2d\":[{\"colorbar\":{\"outlinewidth\":0,\"ticks\":\"\"},\"colorscale\":[[0.0,\"#0d0887\"],[0.1111111111111111,\"#46039f\"],[0.2222222222222222,\"#7201a8\"],[0.3333333333333333,\"#9c179e\"],[0.4444444444444444,\"#bd3786\"],[0.5555555555555556,\"#d8576b\"],[0.6666666666666666,\"#ed7953\"],[0.7777777777777778,\"#fb9f3a\"],[0.8888888888888888,\"#fdca26\"],[1.0,\"#f0f921\"]],\"type\":\"histogram2d\"}],\"histogram2dcontour\":[{\"colorbar\":{\"outlinewidth\":0,\"ticks\":\"\"},\"colorscale\":[[0.0,\"#0d0887\"],[0.1111111111111111,\"#46039f\"],[0.2222222222222222,\"#7201a8\"],[0.3333333333333333,\"#9c179e\"],[0.4444444444444444,\"#bd3786\"],[0.5555555555555556,\"#d8576b\"],[0.6666666666666666,\"#ed7953\"],[0.7777777777777778,\"#fb9f3a\"],[0.8888888888888888,\"#fdca26\"],[1.0,\"#f0f921\"]],\"type\":\"histogram2dcontour\"}],\"mesh3d\":[{\"colorbar\":{\"outlinewidth\":0,\"ticks\":\"\"},\"type\":\"mesh3d\"}],\"parcoords\":[{\"line\":{\"colorbar\":{\"outlinewidth\":0,\"ticks\":\"\"}},\"type\":\"parcoords\"}],\"pie\":[{\"automargin\":true,\"type\":\"pie\"}],\"scatter\":[{\"marker\":{\"colorbar\":{\"outlinewidth\":0,\"ticks\":\"\"}},\"type\":\"scatter\"}],\"scatter3d\":[{\"line\":{\"colorbar\":{\"outlinewidth\":0,\"ticks\":\"\"}},\"marker\":{\"colorbar\":{\"outlinewidth\":0,\"ticks\":\"\"}},\"type\":\"scatter3d\"}],\"scattercarpet\":[{\"marker\":{\"colorbar\":{\"outlinewidth\":0,\"ticks\":\"\"}},\"type\":\"scattercarpet\"}],\"scattergeo\":[{\"marker\":{\"colorbar\":{\"outlinewidth\":0,\"ticks\":\"\"}},\"type\":\"scattergeo\"}],\"scattergl\":[{\"marker\":{\"colorbar\":{\"outlinewidth\":0,\"ticks\":\"\"}},\"type\":\"scattergl\"}],\"scattermapbox\":[{\"marker\":{\"colorbar\":{\"outlinewidth\":0,\"ticks\":\"\"}},\"type\":\"scattermapbox\"}],\"scatterpolar\":[{\"marker\":{\"colorbar\":{\"outlinewidth\":0,\"ticks\":\"\"}},\"type\":\"scatterpolar\"}],\"scatterpolargl\":[{\"marker\":{\"colorbar\":{\"outlinewidth\":0,\"ticks\":\"\"}},\"type\":\"scatterpolargl\"}],\"scatterternary\":[{\"marker\":{\"colorbar\":{\"outlinewidth\":0,\"ticks\":\"\"}},\"type\":\"scatterternary\"}],\"surface\":[{\"colorbar\":{\"outlinewidth\":0,\"ticks\":\"\"},\"colorscale\":[[0.0,\"#0d0887\"],[0.1111111111111111,\"#46039f\"],[0.2222222222222222,\"#7201a8\"],[0.3333333333333333,\"#9c179e\"],[0.4444444444444444,\"#bd3786\"],[0.5555555555555556,\"#d8576b\"],[0.6666666666666666,\"#ed7953\"],[0.7777777777777778,\"#fb9f3a\"],[0.8888888888888888,\"#fdca26\"],[1.0,\"#f0f921\"]],\"type\":\"surface\"}],\"table\":[{\"cells\":{\"fill\":{\"color\":\"#EBF0F8\"},\"line\":{\"color\":\"white\"}},\"header\":{\"fill\":{\"color\":\"#C8D4E3\"},\"line\":{\"color\":\"white\"}},\"type\":\"table\"}]},\"layout\":{\"annotationdefaults\":{\"arrowcolor\":\"#2a3f5f\",\"arrowhead\":0,\"arrowwidth\":1},\"autotypenumbers\":\"strict\",\"coloraxis\":{\"colorbar\":{\"outlinewidth\":0,\"ticks\":\"\"}},\"colorscale\":{\"diverging\":[[0,\"#8e0152\"],[0.1,\"#c51b7d\"],[0.2,\"#de77ae\"],[0.3,\"#f1b6da\"],[0.4,\"#fde0ef\"],[0.5,\"#f7f7f7\"],[0.6,\"#e6f5d0\"],[0.7,\"#b8e186\"],[0.8,\"#7fbc41\"],[0.9,\"#4d9221\"],[1,\"#276419\"]],\"sequential\":[[0.0,\"#0d0887\"],[0.1111111111111111,\"#46039f\"],[0.2222222222222222,\"#7201a8\"],[0.3333333333333333,\"#9c179e\"],[0.4444444444444444,\"#bd3786\"],[0.5555555555555556,\"#d8576b\"],[0.6666666666666666,\"#ed7953\"],[0.7777777777777778,\"#fb9f3a\"],[0.8888888888888888,\"#fdca26\"],[1.0,\"#f0f921\"]],\"sequentialminus\":[[0.0,\"#0d0887\"],[0.1111111111111111,\"#46039f\"],[0.2222222222222222,\"#7201a8\"],[0.3333333333333333,\"#9c179e\"],[0.4444444444444444,\"#bd3786\"],[0.5555555555555556,\"#d8576b\"],[0.6666666666666666,\"#ed7953\"],[0.7777777777777778,\"#fb9f3a\"],[0.8888888888888888,\"#fdca26\"],[1.0,\"#f0f921\"]]},\"colorway\":[\"#636efa\",\"#EF553B\",\"#00cc96\",\"#ab63fa\",\"#FFA15A\",\"#19d3f3\",\"#FF6692\",\"#B6E880\",\"#FF97FF\",\"#FECB52\"],\"font\":{\"color\":\"#2a3f5f\"},\"geo\":{\"bgcolor\":\"white\",\"lakecolor\":\"white\",\"landcolor\":\"#E5ECF6\",\"showlakes\":true,\"showland\":true,\"subunitcolor\":\"white\"},\"hoverlabel\":{\"align\":\"left\"},\"hovermode\":\"closest\",\"mapbox\":{\"style\":\"light\"},\"paper_bgcolor\":\"white\",\"plot_bgcolor\":\"#E5ECF6\",\"polar\":{\"angularaxis\":{\"gridcolor\":\"white\",\"linecolor\":\"white\",\"ticks\":\"\"},\"bgcolor\":\"#E5ECF6\",\"radialaxis\":{\"gridcolor\":\"white\",\"linecolor\":\"white\",\"ticks\":\"\"}},\"scene\":{\"xaxis\":{\"backgroundcolor\":\"#E5ECF6\",\"gridcolor\":\"white\",\"gridwidth\":2,\"linecolor\":\"white\",\"showbackground\":true,\"ticks\":\"\",\"zerolinecolor\":\"white\"},\"yaxis\":{\"backgroundcolor\":\"#E5ECF6\",\"gridcolor\":\"white\",\"gridwidth\":2,\"linecolor\":\"white\",\"showbackground\":true,\"ticks\":\"\",\"zerolinecolor\":\"white\"},\"zaxis\":{\"backgroundcolor\":\"#E5ECF6\",\"gridcolor\":\"white\",\"gridwidth\":2,\"linecolor\":\"white\",\"showbackground\":true,\"ticks\":\"\",\"zerolinecolor\":\"white\"}},\"shapedefaults\":{\"line\":{\"color\":\"#2a3f5f\"}},\"ternary\":{\"aaxis\":{\"gridcolor\":\"white\",\"linecolor\":\"white\",\"ticks\":\"\"},\"baxis\":{\"gridcolor\":\"white\",\"linecolor\":\"white\",\"ticks\":\"\"},\"bgcolor\":\"#E5ECF6\",\"caxis\":{\"gridcolor\":\"white\",\"linecolor\":\"white\",\"ticks\":\"\"}},\"title\":{\"x\":0.05},\"xaxis\":{\"automargin\":true,\"gridcolor\":\"white\",\"linecolor\":\"white\",\"ticks\":\"\",\"title\":{\"standoff\":15},\"zerolinecolor\":\"white\",\"zerolinewidth\":2},\"yaxis\":{\"automargin\":true,\"gridcolor\":\"white\",\"linecolor\":\"white\",\"ticks\":\"\",\"title\":{\"standoff\":15},\"zerolinecolor\":\"white\",\"zerolinewidth\":2}}},\"mapbox\":{\"domain\":{\"x\":[0.0,1.0],\"y\":[0.0,1.0]},\"center\":{\"lat\":36.60827039193356,\"lon\":127.53270254546382},\"zoom\":6,\"style\":\"open-street-map\"},\"legend\":{\"tracegroupgap\":0},\"margin\":{\"t\":60}},                        {\"responsive\": true}                    ).then(function(){\n",
       "                            \n",
       "var gd = document.getElementById('0a1aea4c-79ec-44eb-b93d-10fc44aefefc');\n",
       "var x = new MutationObserver(function (mutations, observer) {{\n",
       "        var display = window.getComputedStyle(gd).display;\n",
       "        if (!display || display === 'none') {{\n",
       "            console.log([gd, 'removed!']);\n",
       "            Plotly.purge(gd);\n",
       "            observer.disconnect();\n",
       "        }}\n",
       "}});\n",
       "\n",
       "// Listen for the removal of the full notebook cells\n",
       "var notebookContainer = gd.closest('#notebook-container');\n",
       "if (notebookContainer) {{\n",
       "    x.observe(notebookContainer, {childList: true});\n",
       "}}\n",
       "\n",
       "// Listen for the clearing of the current output cell\n",
       "var outputEl = gd.closest('.output');\n",
       "if (outputEl) {{\n",
       "    x.observe(outputEl, {childList: true});\n",
       "}}\n",
       "\n",
       "                        })                };                });            </script>        </div>"
      ]
     },
     "metadata": {},
     "output_type": "display_data"
    }
   ],
   "source": [
    "fig = px.scatter_mapbox(locations_inform_df, lat='위도', lon='경도', size_max=400, zoom=6)\n",
    "fig.update_layout(mapbox_style = 'open-street-map')\n",
    "fig.show()"
   ]
  },
  {
   "cell_type": "code",
   "execution_count": 12,
   "id": "0e7fb617",
   "metadata": {},
   "outputs": [],
   "source": [
    "# End of File"
   ]
  }
 ],
 "metadata": {
  "kernelspec": {
   "display_name": "Python 3 (ipykernel)",
   "language": "python",
   "name": "python3"
  },
  "language_info": {
   "codemirror_mode": {
    "name": "ipython",
    "version": 3
   },
   "file_extension": ".py",
   "mimetype": "text/x-python",
   "name": "python",
   "nbconvert_exporter": "python",
   "pygments_lexer": "ipython3",
   "version": "3.9.12"
  }
 },
 "nbformat": 4,
 "nbformat_minor": 5
}
