{
 "cells": [
  {
   "cell_type": "markdown",
   "id": "1375598d",
   "metadata": {},
   "source": [
    "# Instagram Translate\n",
    "- 파파고 API 불러오기\n",
    "- 'content' 언어감지 및 번역"
   ]
  },
  {
   "cell_type": "code",
   "execution_count": 1,
   "id": "9a24448f",
   "metadata": {},
   "outputs": [],
   "source": [
    "import pandas as pd\n",
    "import os\n",
    "import sys\n",
    "import urllib.request\n",
    "import json"
   ]
  },
  {
   "cell_type": "code",
   "execution_count": 212,
   "id": "24ed782b",
   "metadata": {
    "scrolled": true
   },
   "outputs": [],
   "source": [
    "a= \"Mientras ma s vocabulario aprendo ma s fa cil se me hacen algunas cosas  por lo que veo en el coreano hay muchas palabras compuestas y a veces me da risa    por ejemplo estas dos palabras      significa agua y      carne  por lo que pez           Seri a literalmente carne de agua  Igual      agua  y      ojo  entonces La grimas           seri a agua de ojo  Es muy cute \""
   ]
  },
  {
   "cell_type": "code",
   "execution_count": 213,
   "id": "ca110f55",
   "metadata": {},
   "outputs": [],
   "source": [
    "# 정보\n",
    "client_id = \"UaEQvM3HUGHgSS4Au_on\"\n",
    "client_secret = \"K0XtHiaUmB\"\n",
    "text = urllib.parse.quote(a)"
   ]
  },
  {
   "cell_type": "markdown",
   "id": "322797b2",
   "metadata": {},
   "source": [
    "### 파파고 API"
   ]
  },
  {
   "cell_type": "code",
   "execution_count": 214,
   "id": "4899b238",
   "metadata": {},
   "outputs": [
    {
     "name": "stdout",
     "output_type": "stream",
     "text": [
      "es\n"
     ]
    }
   ],
   "source": [
    "# 언어감지\n",
    "data = \"query=\" + text\n",
    "url = \"https://openapi.naver.com/v1/papago/detectLangs\"\n",
    "\n",
    "request = urllib.request.Request(url)\n",
    "request.add_header(\"X-Naver-Client-Id\",client_id)\n",
    "request.add_header(\"X-Naver-Client-Secret\",client_secret)\n",
    "response = urllib.request.urlopen(request, data=data.encode(\"utf-8\"))\n",
    "rescode = response.getcode()\n",
    "\n",
    "if(rescode==200):\n",
    "    response_body = response.read()\n",
    "    result = response_body.decode('utf-8')\n",
    "    result = json.loads(result)\n",
    "    langCode = result[\"langCode\"]\n",
    "    print(langCode)\n",
    "else:\n",
    "    print(\"Error Code:\" + rescode)"
   ]
  },
  {
   "cell_type": "code",
   "execution_count": 215,
   "id": "f3cbd512",
   "metadata": {
    "scrolled": false
   },
   "outputs": [
    {
     "name": "stdout",
     "output_type": "stream",
     "text": [
      "While ma s s vocabulary learning ma s fa cil some things are done to me for what I see in Korean there are many compound words and sometimes it gives me laughter for example these two words mean water and meat so I fish to literally water meat Same water and eye then The serious grime to acupuncturea on eye It's very cute\n"
     ]
    }
   ],
   "source": [
    "# 번역\n",
    "data = \"source=\" + langCode + \"&target=en&text=\" + text\n",
    "url = \"https://openapi.naver.com/v1/papago/n2mt\"\n",
    "\n",
    "if(rescode==200):\n",
    "    response_body = response.read()\n",
    "    result = response_body.decode('utf-8')\n",
    "    result = json.loads(result)\n",
    "    trans_text = result[\"message\"][\"result\"][\"translatedText\"]\n",
    "    print(trans_text)\n",
    "else:\n",
    "    print(\"Error Code:\" + rescode)"
   ]
  },
  {
   "cell_type": "code",
   "execution_count": 193,
   "id": "dccd5270",
   "metadata": {},
   "outputs": [],
   "source": [
    "# End of File"
   ]
  }
 ],
 "metadata": {
  "kernelspec": {
   "display_name": "Python 3 (ipykernel)",
   "language": "python",
   "name": "python3"
  },
  "language_info": {
   "codemirror_mode": {
    "name": "ipython",
    "version": 3
   },
   "file_extension": ".py",
   "mimetype": "text/x-python",
   "name": "python",
   "nbconvert_exporter": "python",
   "pygments_lexer": "ipython3",
   "version": "3.9.12"
  }
 },
 "nbformat": 4,
 "nbformat_minor": 5
}
